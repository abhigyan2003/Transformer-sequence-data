{
  "nbformat": 4,
  "nbformat_minor": 0,
  "metadata": {
    "colab": {
      "provenance": [],
      "gpuType": "T4",
      "authorship_tag": "ABX9TyPQLF7PjFwQDE5PBBPRh7a7",
      "include_colab_link": true
    },
    "kernelspec": {
      "name": "python3",
      "display_name": "Python 3"
    },
    "language_info": {
      "name": "python"
    },
    "accelerator": "GPU"
  },
  "cells": [
    {
      "cell_type": "markdown",
      "metadata": {
        "id": "view-in-github",
        "colab_type": "text"
      },
      "source": [
        "<a href=\"https://colab.research.google.com/github/abhigyan2003/keystroke/blob/main/two_sessions.ipynb\" target=\"_parent\"><img src=\"https://colab.research.google.com/assets/colab-badge.svg\" alt=\"Open In Colab\"/></a>"
      ]
    },
    {
      "cell_type": "code",
      "execution_count": 1,
      "metadata": {
        "id": "H2QifNqd3F-C",
        "colab": {
          "base_uri": "https://localhost:8080/"
        },
        "outputId": "7e25a6b5-1556-41ac-e081-91145bbe2822"
      },
      "outputs": [
        {
          "output_type": "stream",
          "name": "stdout",
          "text": [
            "Collecting torchinfo\n",
            "  Downloading torchinfo-1.8.0-py3-none-any.whl.metadata (21 kB)\n",
            "Requirement already satisfied: pandas in /usr/local/lib/python3.11/dist-packages (2.2.2)\n",
            "Requirement already satisfied: scikit-learn in /usr/local/lib/python3.11/dist-packages (1.6.1)\n",
            "Requirement already satisfied: matplotlib in /usr/local/lib/python3.11/dist-packages (3.10.0)\n",
            "Requirement already satisfied: seaborn in /usr/local/lib/python3.11/dist-packages (0.13.2)\n",
            "Requirement already satisfied: numpy>=1.23.2 in /usr/local/lib/python3.11/dist-packages (from pandas) (2.0.2)\n",
            "Requirement already satisfied: python-dateutil>=2.8.2 in /usr/local/lib/python3.11/dist-packages (from pandas) (2.9.0.post0)\n",
            "Requirement already satisfied: pytz>=2020.1 in /usr/local/lib/python3.11/dist-packages (from pandas) (2025.2)\n",
            "Requirement already satisfied: tzdata>=2022.7 in /usr/local/lib/python3.11/dist-packages (from pandas) (2025.2)\n",
            "Requirement already satisfied: scipy>=1.6.0 in /usr/local/lib/python3.11/dist-packages (from scikit-learn) (1.15.3)\n",
            "Requirement already satisfied: joblib>=1.2.0 in /usr/local/lib/python3.11/dist-packages (from scikit-learn) (1.5.1)\n",
            "Requirement already satisfied: threadpoolctl>=3.1.0 in /usr/local/lib/python3.11/dist-packages (from scikit-learn) (3.6.0)\n",
            "Requirement already satisfied: contourpy>=1.0.1 in /usr/local/lib/python3.11/dist-packages (from matplotlib) (1.3.2)\n",
            "Requirement already satisfied: cycler>=0.10 in /usr/local/lib/python3.11/dist-packages (from matplotlib) (0.12.1)\n",
            "Requirement already satisfied: fonttools>=4.22.0 in /usr/local/lib/python3.11/dist-packages (from matplotlib) (4.58.4)\n",
            "Requirement already satisfied: kiwisolver>=1.3.1 in /usr/local/lib/python3.11/dist-packages (from matplotlib) (1.4.8)\n",
            "Requirement already satisfied: packaging>=20.0 in /usr/local/lib/python3.11/dist-packages (from matplotlib) (24.2)\n",
            "Requirement already satisfied: pillow>=8 in /usr/local/lib/python3.11/dist-packages (from matplotlib) (11.2.1)\n",
            "Requirement already satisfied: pyparsing>=2.3.1 in /usr/local/lib/python3.11/dist-packages (from matplotlib) (3.2.3)\n",
            "Requirement already satisfied: six>=1.5 in /usr/local/lib/python3.11/dist-packages (from python-dateutil>=2.8.2->pandas) (1.17.0)\n",
            "Downloading torchinfo-1.8.0-py3-none-any.whl (23 kB)\n",
            "Installing collected packages: torchinfo\n",
            "Successfully installed torchinfo-1.8.0\n"
          ]
        }
      ],
      "source": [
        "!pip install torchinfo pandas scikit-learn matplotlib seaborn"
      ]
    },
    {
      "cell_type": "code",
      "source": [
        "\n",
        "import pandas as pd\n",
        "import numpy as np\n",
        "import torch\n",
        "import torch.nn as nn\n",
        "import torch.nn.functional as F\n",
        "from sklearn.preprocessing import LabelEncoder\n",
        "from sklearn.model_selection import train_test_split\n",
        "from sklearn.metrics import classification_report, confusion_matrix\n",
        "import seaborn as sns\n",
        "import matplotlib.pyplot as plt\n",
        "from torch.utils.data import TensorDataset, DataLoader\n"
      ],
      "metadata": {
        "id": "lnUttzz07re8"
      },
      "execution_count": 2,
      "outputs": []
    },
    {
      "cell_type": "code",
      "source": [
        "import pandas as pd\n",
        "import numpy as np\n",
        "import torch\n",
        "import torch.nn as nn\n",
        "from torch.utils.data import DataLoader, TensorDataset\n",
        "from sklearn.preprocessing import LabelEncoder\n",
        "from sklearn.utils.class_weight import compute_class_weight\n",
        "from sklearn.metrics import classification_report, confusion_matrix, roc_auc_score, roc_curve\n",
        "import matplotlib.pyplot as plt\n",
        "import seaborn as sns\n",
        "from tqdm import tqdm\n",
        "import math\n"
      ],
      "metadata": {
        "id": "LtGUlC5p_lUp"
      },
      "execution_count": 3,
      "outputs": []
    },
    {
      "cell_type": "code",
      "source": [
        "import pandas as pd\n",
        "import os\n",
        "import glob\n",
        "from sklearn.model_selection import train_test_split\n",
        "\n",
        "def split_user_sessions(user_folder, username_label, test_size=0.2):\n",
        "    csv_files = glob.glob(os.path.join(user_folder, \"*.csv\"))\n",
        "    train_dfs, test_dfs = [], []\n",
        "\n",
        "    # Stratified sampling at the file/session level\n",
        "    train_files, test_files = train_test_split(csv_files, test_size=test_size, random_state=42)\n",
        "\n",
        "    def load_files(files, label):\n",
        "        dfs = []\n",
        "        for f in files:\n",
        "            df = pd.read_csv(f, usecols=['x', 'y'])  # Load only needed columns\n",
        "            df['Username'] = label\n",
        "            dfs.append(df)\n",
        "        return dfs\n",
        "\n",
        "    train_dfs = load_files(train_files, username_label)\n",
        "    test_dfs = load_files(test_files, username_label)\n",
        "\n",
        "    return pd.concat(train_dfs, ignore_index=True), pd.concat(test_dfs, ignore_index=True)\n",
        "\n",
        "# Base directory\n",
        "base_dir = \"/content\"\n",
        "user7_dir = os.path.join(base_dir, \"user7\")\n",
        "user9_dir = os.path.join(base_dir, \"user9\")\n",
        "\n",
        "# Load and split sessions before merging\n",
        "user7_train, user7_test = split_user_sessions(user7_dir, \"User7\")\n",
        "user9_train, user9_test = split_user_sessions(user9_dir, \"User9\")\n",
        "\n",
        "# Combine train and test separately\n",
        "train_df = pd.concat([user7_train, user9_train], ignore_index=True)\n",
        "test_df = pd.concat([user7_test, user9_test], ignore_index=True)\n",
        "\n",
        "print(\"✅ Train shape:\", train_df.shape)\n",
        "print(\"✅ Test shape:\", test_df.shape)"
      ],
      "metadata": {
        "colab": {
          "base_uri": "https://localhost:8080/"
        },
        "id": "hZTCTGC9_nly",
        "outputId": "da2183b0-1bde-4ad2-e019-e5ef211259d0"
      },
      "execution_count": 4,
      "outputs": [
        {
          "output_type": "stream",
          "name": "stdout",
          "text": [
            "✅ Train shape: (96293, 3)\n",
            "✅ Test shape: (130742, 3)\n"
          ]
        }
      ]
    },
    {
      "cell_type": "code",
      "source": [
        "import numpy as np\n",
        "from sklearn.preprocessing import LabelEncoder, StandardScaler\n",
        "\n",
        "# Drop NaNs\n",
        "train_df = train_df.dropna(subset=['x', 'y'])\n",
        "test_df = test_df.dropna(subset=['x', 'y'])\n",
        "\n",
        "# Convert types\n",
        "for df_ in [train_df, test_df]:\n",
        "    df_['x'] = df_['x'].astype('float32')\n",
        "    df_['y'] = df_['y'].astype('float32')\n",
        "    df_['Username'] = df_['Username'].astype('category')\n",
        "\n",
        "# Fit scaler on training data only\n",
        "scaler = StandardScaler()\n",
        "train_df[['x', 'y']] = scaler.fit_transform(train_df[['x', 'y']])\n",
        "test_df[['x', 'y']] = scaler.transform(test_df[['x', 'y']])\n",
        "\n",
        "# Fit label encoder only once and apply to both\n",
        "label_encoder = LabelEncoder()\n",
        "train_df['UserEncoded'] = label_encoder.fit_transform(train_df['Username'])\n",
        "test_df['UserEncoded'] = label_encoder.transform(test_df['Username'])\n",
        "\n",
        "# Done\n",
        "print(\"🧠 Label Mapping:\", dict(zip(label_encoder.classes_, label_encoder.transform(label_encoder.classes_))))\n",
        "print(\"✅ Train shape:\", train_df.shape, \"| Test shape:\", test_df.shape)\n"
      ],
      "metadata": {
        "colab": {
          "base_uri": "https://localhost:8080/"
        },
        "id": "kw4H_ZX8_rbb",
        "outputId": "30d1effa-7493-4d2c-ab5e-ccea476c23fc"
      },
      "execution_count": 5,
      "outputs": [
        {
          "output_type": "stream",
          "name": "stdout",
          "text": [
            "🧠 Label Mapping: {'User7': np.int64(0), 'User9': np.int64(1)}\n",
            "✅ Train shape: (96293, 4) | Test shape: (130742, 4)\n"
          ]
        }
      ]
    },
    {
      "cell_type": "code",
      "source": [
        "print(train_df.columns.tolist())\n",
        "print(test_df.columns.tolist())"
      ],
      "metadata": {
        "colab": {
          "base_uri": "https://localhost:8080/"
        },
        "id": "FuDcHSsbAQmO",
        "outputId": "5c531cbf-c5e3-434c-bce4-827721e02a05"
      },
      "execution_count": 6,
      "outputs": [
        {
          "output_type": "stream",
          "name": "stdout",
          "text": [
            "['x', 'y', 'Username', 'UserEncoded']\n",
            "['x', 'y', 'Username', 'UserEncoded']\n"
          ]
        }
      ]
    },
    {
      "cell_type": "code",
      "source": [
        "from sklearn.preprocessing import LabelEncoder\n",
        "import torch\n",
        "from tqdm import tqdm\n",
        "\n",
        "def build_sequences(df, seq_len=50, feature_cols=['x', 'y']):\n",
        "    \"\"\"\n",
        "    Builds sequences of shape [N, seq_len, features] with single-user labels.\n",
        "    \"\"\"\n",
        "    X, y = [], []\n",
        "    label_encoder = LabelEncoder()\n",
        "    df['UserEncoded'] = label_encoder.fit_transform(df['Username'])\n",
        "\n",
        "    # Sort by index to keep temporal continuity (or timestamp if available)\n",
        "    df = df.reset_index(drop=True)\n",
        "\n",
        "    for i in tqdm(range(len(df) - seq_len)):\n",
        "        segment = df.iloc[i:i+seq_len]\n",
        "        users = segment['UserEncoded']\n",
        "\n",
        "        if len(set(users)) == 1:  # Ensure same user in the entire sequence\n",
        "            coords = segment[feature_cols].values\n",
        "            X.append(coords)\n",
        "            y.append(users.iloc[0])\n",
        "\n",
        "    X = torch.tensor(X, dtype=torch.float32)\n",
        "    y = torch.tensor(y, dtype=torch.long)\n",
        "\n",
        "    return X, y, label_encoder\n"
      ],
      "metadata": {
        "id": "fNyj-IdoAouo"
      },
      "execution_count": 7,
      "outputs": []
    },
    {
      "cell_type": "code",
      "source": [
        "SEQ_LEN = 50\n",
        "features = ['x', 'y']\n",
        "\n",
        "# Train\n",
        "X_train, y_train, label_encoder = build_sequences(train_df.copy(), seq_len=SEQ_LEN, feature_cols=features)\n",
        "\n",
        "# Test (use same label encoder)\n",
        "test_df['UserEncoded'] = label_encoder.transform(test_df['Username'])\n",
        "X_test, y_test, _ = build_sequences(test_df.copy(), seq_len=SEQ_LEN, feature_cols=features)\n",
        "\n",
        "# Display final shapes\n",
        "print(f\"✅ Train X: {X_train.shape}, y: {y_train.shape}\")\n",
        "print(f\"✅ Test  X: {X_test.shape}, y: {y_test.shape}\")\n"
      ],
      "metadata": {
        "colab": {
          "base_uri": "https://localhost:8080/"
        },
        "id": "HNTin4KIBB3t",
        "outputId": "c488d21d-937a-48ec-c482-34515fe672a5"
      },
      "execution_count": 8,
      "outputs": [
        {
          "output_type": "stream",
          "name": "stderr",
          "text": [
            "100%|██████████| 96243/96243 [01:01<00:00, 1577.68it/s]\n",
            "/tmp/ipython-input-7-3743701512.py:25: UserWarning: Creating a tensor from a list of numpy.ndarrays is extremely slow. Please consider converting the list to a single numpy.ndarray with numpy.array() before converting to a tensor. (Triggered internally at /pytorch/torch/csrc/utils/tensor_new.cpp:254.)\n",
            "  X = torch.tensor(X, dtype=torch.float32)\n",
            "100%|██████████| 130692/130692 [01:04<00:00, 2035.70it/s]\n"
          ]
        },
        {
          "output_type": "stream",
          "name": "stdout",
          "text": [
            "✅ Train X: torch.Size([96194, 50, 2]), y: torch.Size([96194])\n",
            "✅ Test  X: torch.Size([130643, 50, 2]), y: torch.Size([130643])\n"
          ]
        }
      ]
    },
    {
      "cell_type": "code",
      "source": [
        "import pandas as pd\n",
        "import numpy as np\n",
        "import torch\n",
        "from sklearn.preprocessing import LabelEncoder\n",
        "from sklearn.model_selection import train_test_split\n",
        "from sklearn.utils.class_weight import compute_class_weight\n",
        "from torch.utils.data import TensorDataset, DataLoader\n",
        "from tqdm import tqdm\n",
        "import torch.nn as nn\n",
        "import math\n",
        "import matplotlib.pyplot as plt\n",
        "import seaborn as sns\n",
        "\n",
        "device = torch.device(\"cuda\" if torch.cuda.is_available() else \"cpu\")\n",
        "print(\"✅ Using device:\", device)"
      ],
      "metadata": {
        "colab": {
          "base_uri": "https://localhost:8080/"
        },
        "id": "ub78hGrqBaG4",
        "outputId": "fa7ef0fb-2c62-4175-847b-290346dab48f"
      },
      "execution_count": 9,
      "outputs": [
        {
          "output_type": "stream",
          "name": "stdout",
          "text": [
            "✅ Using device: cuda\n"
          ]
        }
      ]
    },
    {
      "cell_type": "code",
      "source": [
        "from torch.utils.data import TensorDataset, DataLoader\n",
        "from sklearn.utils.class_weight import compute_class_weight\n",
        "import numpy as np\n",
        "import torch\n",
        "\n",
        "# ✅ Convert to numpy for class weight computation\n",
        "y_train_np = y_train.numpy()\n",
        "\n",
        "# Compute class weights from training labels only\n",
        "class_weights = compute_class_weight(class_weight='balanced', classes=np.unique(y_train_np), y=y_train_np)\n",
        "class_weights = torch.tensor(class_weights, dtype=torch.float32).to(device)\n",
        "\n",
        "# Create TensorDatasets\n",
        "train_ds = TensorDataset(X_train, y_train)\n",
        "val_ds = TensorDataset(X_test, y_test)  # X_test and y_test from previous block\n",
        "\n",
        "# DataLoaders\n",
        "train_dl = DataLoader(train_ds, batch_size=32, shuffle=True)\n",
        "val_dl = DataLoader(val_ds, batch_size=32)\n",
        "\n",
        "# Print info\n",
        "print(f\"✅ Training samples: {len(train_ds)} | Validation samples: {len(val_ds)}\")\n",
        "print(\"⚖️ Class Weights:\", class_weights)\n"
      ],
      "metadata": {
        "colab": {
          "base_uri": "https://localhost:8080/"
        },
        "id": "t3s1mnBID4sB",
        "outputId": "140a89e1-ba31-4a03-eff8-91b5db0e76ea"
      },
      "execution_count": 10,
      "outputs": [
        {
          "output_type": "stream",
          "name": "stdout",
          "text": [
            "✅ Training samples: 96194 | Validation samples: 130643\n",
            "⚖️ Class Weights: tensor([1.1818, 0.8667], device='cuda:0')\n"
          ]
        }
      ]
    },
    {
      "cell_type": "code",
      "source": [
        "import torch\n",
        "import torch.nn as nn\n",
        "import math"
      ],
      "metadata": {
        "id": "oAuV63lDEBE-"
      },
      "execution_count": 11,
      "outputs": []
    },
    {
      "cell_type": "code",
      "source": [
        "class PositionalEncoding(nn.Module):\n",
        "    def __init__(self, d_model, max_len=500):\n",
        "        super().__init__()\n",
        "        pe = torch.zeros(max_len, d_model)\n",
        "        pos = torch.arange(0, max_len).unsqueeze(1)\n",
        "        div = torch.exp(torch.arange(0, d_model, 2) * -math.log(10000.0) / d_model)\n",
        "        pe[:, 0::2] = torch.sin(pos * div)\n",
        "        pe[:, 1::2] = torch.cos(pos * div)\n",
        "        self.register_buffer('pe', pe.unsqueeze(0))\n",
        "\n",
        "    def forward(self, x):\n",
        "        return x + self.pe[:, :x.size(1)]\n"
      ],
      "metadata": {
        "id": "VVpeMJdkFBrn"
      },
      "execution_count": 12,
      "outputs": []
    },
    {
      "cell_type": "code",
      "source": [
        "class MultiHeadAttention(nn.Module):\n",
        "    def __init__(self, d_model, num_heads):\n",
        "        super().__init__()\n",
        "        assert d_model % num_heads == 0\n",
        "        self.d_k = d_model // num_heads\n",
        "        self.q = nn.Linear(d_model, d_model)\n",
        "        self.k = nn.Linear(d_model, d_model)\n",
        "        self.v = nn.Linear(d_model, d_model)\n",
        "        self.out = nn.Linear(d_model, d_model)\n",
        "\n",
        "    def forward(self, x):\n",
        "        B, T, D = x.shape\n",
        "        H = D // self.d_k\n",
        "        Q = self.q(x).view(B, T, H, self.d_k).transpose(1, 2)\n",
        "        K = self.k(x).view(B, T, H, self.d_k).transpose(1, 2)\n",
        "        V = self.v(x).view(B, T, H, self.d_k).transpose(1, 2)\n",
        "\n",
        "        scores = Q @ K.transpose(-2, -1) / math.sqrt(self.d_k)\n",
        "        weights = torch.softmax(scores, dim=-1)\n",
        "        output = weights @ V\n",
        "\n",
        "        output = output.transpose(1, 2).contiguous().view(B, T, D)\n",
        "        return self.out(output)\n"
      ],
      "metadata": {
        "id": "uqquz4DuFDKG"
      },
      "execution_count": 13,
      "outputs": []
    },
    {
      "cell_type": "code",
      "source": [
        "class TransformerBlock(nn.Module):\n",
        "    def __init__(self, d_model, num_heads, ff_dim=128):\n",
        "        super().__init__()\n",
        "        self.attn = MultiHeadAttention(d_model, num_heads)\n",
        "        self.norm1 = nn.LayerNorm(d_model)\n",
        "        self.ff = nn.Sequential(\n",
        "            nn.Linear(d_model, ff_dim),\n",
        "            nn.ReLU(),\n",
        "            nn.Linear(ff_dim, d_model)\n",
        "        )\n",
        "        self.norm2 = nn.LayerNorm(d_model)\n",
        "\n",
        "    def forward(self, x):\n",
        "        x = self.norm1(x + self.attn(x))\n",
        "        x = self.norm2(x + self.ff(x))\n",
        "        return x\n"
      ],
      "metadata": {
        "id": "WBt70kMzFFZI"
      },
      "execution_count": 14,
      "outputs": []
    },
    {
      "cell_type": "code",
      "source": [
        "class MouseDynamicsClassifier(nn.Module):\n",
        "    def __init__(self, input_dim=2, d_model=64, num_heads=4, num_layers=2, num_classes=2):\n",
        "        super().__init__()\n",
        "        self.input_proj = nn.Linear(input_dim, d_model)\n",
        "        self.pos_enc = PositionalEncoding(d_model)\n",
        "        self.transformer_blocks = nn.Sequential(\n",
        "            *[TransformerBlock(d_model, num_heads) for _ in range(num_layers)]\n",
        "        )\n",
        "        self.classifier = nn.Linear(d_model, num_classes)\n",
        "\n",
        "    def forward(self, x):\n",
        "        x = self.input_proj(x)          # [B, T, input_dim] -> [B, T, d_model]\n",
        "        x = self.pos_enc(x)             # Positional Encoding\n",
        "        x = self.transformer_blocks(x)  # Transformer layers\n",
        "        x = x.mean(dim=1)               # Global average pooling\n",
        "        return self.classifier(x)\n",
        "\n",
        "\n",
        "model = MouseDynamicsClassifier().to(device)\n",
        "\n",
        "# Ensure class_weights from your training data is on the same device\n",
        "loss_fn = nn.CrossEntropyLoss(weight=class_weights)\n",
        "optimizer = torch.optim.Adam(model.parameters(), lr=1e-3)\n"
      ],
      "metadata": {
        "id": "3vzfat2rFHMH"
      },
      "execution_count": 15,
      "outputs": []
    },
    {
      "cell_type": "code",
      "source": [
        "from tqdm import tqdm\n",
        "\n",
        "def train(model, train_dl, val_dl, loss_fn, optimizer, device, epochs=10):\n",
        "    model.to(device)\n",
        "\n",
        "    for epoch in range(epochs):\n",
        "        model.train()\n",
        "        total_loss = 0.0\n",
        "\n",
        "        loop = tqdm(train_dl, desc=f\"🔁 Epoch {epoch+1}/{epochs}\", leave=False)\n",
        "        for xb, yb in loop:\n",
        "            xb, yb = xb.to(device), yb.to(device)\n",
        "\n",
        "            optimizer.zero_grad()\n",
        "            preds = model(xb)\n",
        "            loss = loss_fn(preds, yb)\n",
        "            loss.backward()\n",
        "            optimizer.step()\n",
        "\n",
        "            total_loss += loss.item()\n",
        "            loop.set_postfix(loss=loss.item())\n",
        "\n",
        "        # === Validation Phase ===\n",
        "        model.eval()\n",
        "        correct = 0\n",
        "        total = 0\n",
        "\n",
        "        with torch.no_grad():\n",
        "            for xb, yb in val_dl:\n",
        "                xb, yb = xb.to(device), yb.to(device)\n",
        "                preds = model(xb)\n",
        "                correct += (preds.argmax(dim=1) == yb).sum().item()\n",
        "                total += yb.size(0)\n",
        "\n",
        "        acc = correct / total if total > 0 else 0.0\n",
        "        print(f\"✅ Epoch {epoch+1} | 🔻 Total Loss: {total_loss:.4f} | ✅ Val Accuracy: {acc:.2%}\")\n",
        "\n",
        "# === Run Training ===\n",
        "train(\n",
        "    model=model,\n",
        "    train_dl=train_dl,\n",
        "    val_dl=val_dl,\n",
        "    loss_fn=loss_fn,\n",
        "    optimizer=optimizer,\n",
        "    device=device,\n",
        "    epochs=10\n",
        ")\n"
      ],
      "metadata": {
        "colab": {
          "base_uri": "https://localhost:8080/"
        },
        "id": "rnlafFDSFJhM",
        "outputId": "7ecae61b-6051-4e3f-f791-8b44fffa732e"
      },
      "execution_count": 16,
      "outputs": [
        {
          "output_type": "stream",
          "name": "stderr",
          "text": []
        },
        {
          "output_type": "stream",
          "name": "stdout",
          "text": [
            "✅ Epoch 1 | 🔻 Total Loss: 1266.0496 | ✅ Val Accuracy: 73.96%\n"
          ]
        },
        {
          "output_type": "stream",
          "name": "stderr",
          "text": []
        },
        {
          "output_type": "stream",
          "name": "stdout",
          "text": [
            "✅ Epoch 2 | 🔻 Total Loss: 970.2483 | ✅ Val Accuracy: 75.72%\n"
          ]
        },
        {
          "output_type": "stream",
          "name": "stderr",
          "text": []
        },
        {
          "output_type": "stream",
          "name": "stdout",
          "text": [
            "✅ Epoch 3 | 🔻 Total Loss: 832.3147 | ✅ Val Accuracy: 71.41%\n"
          ]
        },
        {
          "output_type": "stream",
          "name": "stderr",
          "text": []
        },
        {
          "output_type": "stream",
          "name": "stdout",
          "text": [
            "✅ Epoch 4 | 🔻 Total Loss: 751.2250 | ✅ Val Accuracy: 72.24%\n"
          ]
        },
        {
          "output_type": "stream",
          "name": "stderr",
          "text": []
        },
        {
          "output_type": "stream",
          "name": "stdout",
          "text": [
            "✅ Epoch 5 | 🔻 Total Loss: 663.4781 | ✅ Val Accuracy: 72.84%\n"
          ]
        },
        {
          "output_type": "stream",
          "name": "stderr",
          "text": []
        },
        {
          "output_type": "stream",
          "name": "stdout",
          "text": [
            "✅ Epoch 6 | 🔻 Total Loss: 595.2555 | ✅ Val Accuracy: 74.32%\n"
          ]
        },
        {
          "output_type": "stream",
          "name": "stderr",
          "text": []
        },
        {
          "output_type": "stream",
          "name": "stdout",
          "text": [
            "✅ Epoch 7 | 🔻 Total Loss: 537.3427 | ✅ Val Accuracy: 74.15%\n"
          ]
        },
        {
          "output_type": "stream",
          "name": "stderr",
          "text": []
        },
        {
          "output_type": "stream",
          "name": "stdout",
          "text": [
            "✅ Epoch 8 | 🔻 Total Loss: 485.2964 | ✅ Val Accuracy: 72.26%\n"
          ]
        },
        {
          "output_type": "stream",
          "name": "stderr",
          "text": []
        },
        {
          "output_type": "stream",
          "name": "stdout",
          "text": [
            "✅ Epoch 9 | 🔻 Total Loss: 441.7980 | ✅ Val Accuracy: 71.20%\n"
          ]
        },
        {
          "output_type": "stream",
          "name": "stderr",
          "text": []
        },
        {
          "output_type": "stream",
          "name": "stdout",
          "text": [
            "✅ Epoch 10 | 🔻 Total Loss: 406.1247 | ✅ Val Accuracy: 71.71%\n"
          ]
        }
      ]
    },
    {
      "cell_type": "code",
      "source": [
        "from sklearn.metrics import classification_report, confusion_matrix\n",
        "import matplotlib.pyplot as plt\n",
        "import seaborn as sns\n",
        "\n",
        "# === Evaluation ===\n",
        "model.eval()\n",
        "y_true, y_pred = [], []\n",
        "\n",
        "with torch.no_grad():\n",
        "    for xb, yb in val_dl:\n",
        "        xb, yb = xb.to(device), yb.to(device)\n",
        "        preds = model(xb)\n",
        "        y_true.extend(yb.cpu().tolist())\n",
        "        y_pred.extend(preds.argmax(dim=1).cpu().tolist())\n",
        "\n",
        "# === Classification Report ===\n",
        "print(\"📊 Classification Report:\\n\")\n",
        "print(classification_report(\n",
        "    y_true, y_pred, target_names=label_encoder.classes_)\n",
        ")\n",
        "\n",
        "# === Confusion Matrix ===\n",
        "cm = confusion_matrix(y_true, y_pred)\n",
        "plt.figure(figsize=(6, 5))\n",
        "sns.heatmap(cm, annot=True, fmt='d', cmap='Blues',\n",
        "            xticklabels=label_encoder.classes_,\n",
        "            yticklabels=label_encoder.classes_)\n",
        "plt.xlabel(\"Predicted\")\n",
        "plt.ylabel(\"True\")\n",
        "plt.title(\"🧠 Confusion Matrix\")\n",
        "plt.tight_layout()\n",
        "plt.show()\n"
      ],
      "metadata": {
        "colab": {
          "base_uri": "https://localhost:8080/",
          "height": 767
        },
        "id": "TKAPLclaFcgl",
        "outputId": "ba075161-f850-44eb-9375-e86c0253d000"
      },
      "execution_count": 17,
      "outputs": [
        {
          "output_type": "stream",
          "name": "stdout",
          "text": [
            "📊 Classification Report:\n",
            "\n",
            "              precision    recall  f1-score   support\n",
            "\n",
            "       User7       0.84      0.65      0.73     77638\n",
            "       User9       0.61      0.82      0.70     53005\n",
            "\n",
            "    accuracy                           0.72    130643\n",
            "   macro avg       0.73      0.73      0.72    130643\n",
            "weighted avg       0.75      0.72      0.72    130643\n",
            "\n"
          ]
        },
        {
          "output_type": "stream",
          "name": "stderr",
          "text": [
            "/tmp/ipython-input-17-2884539710.py:31: UserWarning: Glyph 129504 (\\N{BRAIN}) missing from font(s) DejaVu Sans.\n",
            "  plt.tight_layout()\n",
            "/usr/local/lib/python3.11/dist-packages/IPython/core/pylabtools.py:151: UserWarning: Glyph 129504 (\\N{BRAIN}) missing from font(s) DejaVu Sans.\n",
            "  fig.canvas.print_figure(bytes_io, **kw)\n"
          ]
        },
        {
          "output_type": "display_data",
          "data": {
            "text/plain": [
              "<Figure size 600x500 with 2 Axes>"
            ],
            "image/png": "[encoded data removed]"
          },
          "metadata": {}
        }
      ]
    },
    {
      "cell_type": "code",
      "source": [
        "from sklearn.metrics import roc_auc_score, roc_curve\n",
        "import matplotlib.pyplot as plt\n",
        "\n",
        "# === Probabilities for class \"User9\" (label 1 if using LabelEncoder)\n",
        "y_probs = []\n",
        "model.eval()\n",
        "\n",
        "with torch.no_grad():\n",
        "    for xb, _ in val_dl:\n",
        "        xb = xb.to(device)\n",
        "        probs = torch.softmax(model(xb), dim=1)[:, 1]  # Probability of class 1\n",
        "        y_probs.extend(probs.cpu().tolist())\n",
        "\n",
        "# Ensure `y_true` is ready (already collected during evaluation earlier)\n",
        "# Compute AUC\n",
        "auc = roc_auc_score(y_true, y_probs)\n",
        "fpr, tpr, _ = roc_curve(y_true, y_probs)\n",
        "\n",
        "# === Plot ROC Curve ===\n",
        "plt.figure(figsize=(8, 6))\n",
        "plt.plot(fpr, tpr, label=f'ROC Curve (AUC = {auc:.4f})', color='blue', lw=2)\n",
        "plt.plot([0, 1], [0, 1], linestyle='--', color='gray', label='Random Classifier')\n",
        "plt.xlabel('False Positive Rate')\n",
        "plt.ylabel('True Positive Rate')\n",
        "plt.title('📈 ROC Curve')\n",
        "plt.legend(loc='lower right')\n",
        "plt.grid(True)\n",
        "plt.tight_layout()\n",
        "plt.show()\n"
      ],
      "metadata": {
        "colab": {
          "base_uri": "https://localhost:8080/",
          "height": 696
        },
        "id": "xrnq1eqyLlZQ",
        "outputId": "af4fa011-80e6-4828-b7f3-95ff55a3de59"
      },
      "execution_count": 18,
      "outputs": [
        {
          "output_type": "stream",
          "name": "stderr",
          "text": [
            "/tmp/ipython-input-18-4159146478.py:28: UserWarning: Glyph 128200 (\\N{CHART WITH UPWARDS TREND}) missing from font(s) DejaVu Sans.\n",
            "  plt.tight_layout()\n",
            "/usr/local/lib/python3.11/dist-packages/IPython/core/pylabtools.py:151: UserWarning: Glyph 128200 (\\N{CHART WITH UPWARDS TREND}) missing from font(s) DejaVu Sans.\n",
            "  fig.canvas.print_figure(bytes_io, **kw)\n"
          ]
        },
        {
          "output_type": "display_data",
          "data": {
            "text/plain": [
              "<Figure size 800x600 with 1 Axes>"
            ],
            "image/png": "[encoded data removed]"
          },
          "metadata": {}
        }
      ]
    },
    {
      "cell_type": "code",
      "source": [],
      "metadata": {
        "id": "ahqfeekxL8_s"
      },
      "execution_count": 18,
      "outputs": []
    }
  ]
}