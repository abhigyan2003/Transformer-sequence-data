{
  "cells": [
    {
      "cell_type": "markdown",
      "metadata": {
        "id": "view-in-github",
        "colab_type": "text"
      },
      "source": [
        "<a href=\"https://colab.research.google.com/github/abhigyan2003/keystroke/blob/main/sequencedata_transformer.ipynb\" target=\"_parent\"><img src=\"https://colab.research.google.com/assets/colab-badge.svg\" alt=\"Open In Colab\"/></a>"
      ]
    },
    {
      "cell_type": "code",
      "execution_count": 1,
      "metadata": {
        "id": "zDehumTHL7KE"
      },
      "outputs": [],
      "source": [
        "import pandas as pd\n",
        "import numpy as np\n",
        "import matplotlib.pyplot as plt\n",
        "import seaborn as sns\n",
        "\n",
        "%matplotlib inline\n"
      ]
    },
    {
      "cell_type": "code",
      "source": [
        "import pandas as pd\n",
        "from sklearn.preprocessing import LabelEncoder\n",
        "import torch\n",
        "\n",
        "# Load both user files\n",
        "df1 = pd.read_csv(\"User1.csv\")\n",
        "df2 = pd.read_csv(\"User2.csv\")\n",
        "\n",
        "df = pd.concat([df1, df2], ignore_index=True)\n",
        "\n",
        "# Clean\n",
        "df = df[df['EventType'].isin(['press', 'release'])].dropna(subset=['Key', 'Username'])\n",
        "df = df.sort_values('Timestamp').reset_index(drop=True)\n",
        "\n",
        "# Encode key values and usernames\n",
        "key_encoder = LabelEncoder()\n",
        "user_encoder = LabelEncoder()\n",
        "\n",
        "df['KeyEncoded'] = key_encoder.fit_transform(df['Key'])\n",
        "df['UserEncoded'] = user_encoder.fit_transform(df['Username'])\n",
        "\n",
        "print(user_encoder.classes_)  # should print ['User1' 'User2']\n"
      ],
      "metadata": {
        "colab": {
          "base_uri": "https://localhost:8080/"
        },
        "id": "LnbE9tC7E2JV",
        "outputId": "0e875a59-2756-421d-a5b5-eae56408d85d"
      },
      "execution_count": 2,
      "outputs": [
        {
          "output_type": "stream",
          "name": "stdout",
          "text": [
            "['User1' 'User2']\n"
          ]
        }
      ]
    },
    {
      "cell_type": "code",
      "execution_count": 3,
      "metadata": {
        "colab": {
          "base_uri": "https://localhost:8080/",
          "height": 206
        },
        "id": "V-J69mc4OVsq",
        "outputId": "3c041b75-060d-43b9-a434-46676a4aee0b"
      },
      "outputs": [
        {
          "output_type": "execute_result",
          "data": {
            "text/plain": [
              "                 Timestamp EventType         Key Username\n",
              "0  2017-03-20 01:24:55,555   RESTART         NaN      NaN\n",
              "1  2017-03-20 01:25:20,894   release   Key.alt_l    User1\n",
              "2  2017-03-20 01:25:20,910   release  Key.ctrl_l    User1\n",
              "3  2017-03-20 01:25:20,910   release   Key.shift    User1\n",
              "4  2017-03-20 01:25:20,910   release     Key.cmd    User1"
            ],
            "text/html": [
              "\n",
              "  <div id=\"df-d1d0c1b2-1dad-45cb-b953-973a4ccbac2f\" class=\"colab-df-container\">\n",
              "    <div>\n",
              "<style scoped>\n",
              "    .dataframe tbody tr th:only-of-type {\n",
              "        vertical-align: middle;\n",
              "    }\n",
              "\n",
              "    .dataframe tbody tr th {\n",
              "        vertical-align: top;\n",
              "    }\n",
              "\n",
              "    .dataframe thead th {\n",
              "        text-align: right;\n",
              "    }\n",
              "</style>\n",
              "<table border=\"1\" class=\"dataframe\">\n",
              "  <thead>\n",
              "    <tr style=\"text-align: right;\">\n",
              "      <th></th>\n",
              "      <th>Timestamp</th>\n",
              "      <th>EventType</th>\n",
              "      <th>Key</th>\n",
              "      <th>Username</th>\n",
              "    </tr>\n",
              "  </thead>\n",
              "  <tbody>\n",
              "    <tr>\n",
              "      <th>0</th>\n",
              "      <td>2017-03-20 01:24:55,555</td>\n",
              "      <td>RESTART</td>\n",
              "      <td>NaN</td>\n",
              "      <td>NaN</td>\n",
              "    </tr>\n",
              "    <tr>\n",
              "      <th>1</th>\n",
              "      <td>2017-03-20 01:25:20,894</td>\n",
              "      <td>release</td>\n",
              "      <td>Key.alt_l</td>\n",
              "      <td>User1</td>\n",
              "    </tr>\n",
              "    <tr>\n",
              "      <th>2</th>\n",
              "      <td>2017-03-20 01:25:20,910</td>\n",
              "      <td>release</td>\n",
              "      <td>Key.ctrl_l</td>\n",
              "      <td>User1</td>\n",
              "    </tr>\n",
              "    <tr>\n",
              "      <th>3</th>\n",
              "      <td>2017-03-20 01:25:20,910</td>\n",
              "      <td>release</td>\n",
              "      <td>Key.shift</td>\n",
              "      <td>User1</td>\n",
              "    </tr>\n",
              "    <tr>\n",
              "      <th>4</th>\n",
              "      <td>2017-03-20 01:25:20,910</td>\n",
              "      <td>release</td>\n",
              "      <td>Key.cmd</td>\n",
              "      <td>User1</td>\n",
              "    </tr>\n",
              "  </tbody>\n",
              "</table>\n",
              "</div>\n",
              "    <div class=\"colab-df-buttons\">\n",
              "\n",
              "  <div class=\"colab-df-container\">\n",
              "    <button class=\"colab-df-convert\" onclick=\"convertToInteractive('df-d1d0c1b2-1dad-45cb-b953-973a4ccbac2f')\"\n",
              "            title=\"Convert this dataframe to an interactive table.\"\n",
              "            style=\"display:none;\">\n",
              "\n",
              "  <svg xmlns=\"http://www.w3.org/2000/svg\" height=\"24px\" viewBox=\"0 -960 960 960\">\n",
              "    <path d=\"M120-120v-720h720v720H120Zm60-500h600v-160H180v160Zm220 220h160v-160H400v160Zm0 220h160v-160H400v160ZM180-400h160v-160H180v160Zm440 0h160v-160H620v160ZM180-180h160v-160H180v160Zm440 0h160v-160H620v160Z\"/>\n",
              "  </svg>\n",
              "    </button>\n",
              "\n",
              "  <style>\n",
              "    .colab-df-container {\n",
              "      display:flex;\n",
              "      gap: 12px;\n",
              "    }\n",
              "\n",
              "    .colab-df-convert {\n",
              "      background-color: #E8F0FE;\n",
              "      border: none;\n",
              "      border-radius: 50%;\n",
              "      cursor: pointer;\n",
              "      display: none;\n",
              "      fill: #1967D2;\n",
              "      height: 32px;\n",
              "      padding: 0 0 0 0;\n",
              "      width: 32px;\n",
              "    }\n",
              "\n",
              "    .colab-df-convert:hover {\n",
              "      background-color: #E2EBFA;\n",
              "      box-shadow: 0px 1px 2px rgba(60, 64, 67, 0.3), 0px 1px 3px 1px rgba(60, 64, 67, 0.15);\n",
              "      fill: #174EA6;\n",
              "    }\n",
              "\n",
              "    .colab-df-buttons div {\n",
              "      margin-bottom: 4px;\n",
              "    }\n",
              "\n",
              "    [theme=dark] .colab-df-convert {\n",
              "      background-color: #3B4455;\n",
              "      fill: #D2E3FC;\n",
              "    }\n",
              "\n",
              "    [theme=dark] .colab-df-convert:hover {\n",
              "      background-color: #434B5C;\n",
              "      box-shadow: 0px 1px 3px 1px rgba(0, 0, 0, 0.15);\n",
              "      filter: drop-shadow(0px 1px 2px rgba(0, 0, 0, 0.3));\n",
              "      fill: #FFFFFF;\n",
              "    }\n",
              "  </style>\n",
              "\n",
              "    <script>\n",
              "      const buttonEl =\n",
              "        document.querySelector('#df-d1d0c1b2-1dad-45cb-b953-973a4ccbac2f button.colab-df-convert');\n",
              "      buttonEl.style.display =\n",
              "        google.colab.kernel.accessAllowed ? 'block' : 'none';\n",
              "\n",
              "      async function convertToInteractive(key) {\n",
              "        const element = document.querySelector('#df-d1d0c1b2-1dad-45cb-b953-973a4ccbac2f');\n",
              "        const dataTable =\n",
              "          await google.colab.kernel.invokeFunction('convertToInteractive',\n",
              "                                                    [key], {});\n",
              "        if (!dataTable) return;\n",
              "\n",
              "        const docLinkHtml = 'Like what you see? Visit the ' +\n",
              "          '<a target=\"_blank\" href=https://colab.research.google.com/notebooks/data_table.ipynb>data table notebook</a>'\n",
              "          + ' to learn more about interactive tables.';\n",
              "        element.innerHTML = '';\n",
              "        dataTable['output_type'] = 'display_data';\n",
              "        await google.colab.output.renderOutput(dataTable, element);\n",
              "        const docLink = document.createElement('div');\n",
              "        docLink.innerHTML = docLinkHtml;\n",
              "        element.appendChild(docLink);\n",
              "      }\n",
              "    </script>\n",
              "  </div>\n",
              "\n",
              "\n",
              "    <div id=\"df-73d16cac-80eb-49a3-b9aa-6b3ff183aa0f\">\n",
              "      <button class=\"colab-df-quickchart\" onclick=\"quickchart('df-73d16cac-80eb-49a3-b9aa-6b3ff183aa0f')\"\n",
              "                title=\"Suggest charts\"\n",
              "                style=\"display:none;\">\n",
              "\n",
              "<svg xmlns=\"http://www.w3.org/2000/svg\" height=\"24px\"viewBox=\"0 0 24 24\"\n",
              "     width=\"24px\">\n",
              "    <g>\n",
              "        <path d=\"M19 3H5c-1.1 0-2 .9-2 2v14c0 1.1.9 2 2 2h14c1.1 0 2-.9 2-2V5c0-1.1-.9-2-2-2zM9 17H7v-7h2v7zm4 0h-2V7h2v10zm4 0h-2v-4h2v4z\"/>\n",
              "    </g>\n",
              "</svg>\n",
              "      </button>\n",
              "\n",
              "<style>\n",
              "  .colab-df-quickchart {\n",
              "      --bg-color: #E8F0FE;\n",
              "      --fill-color: #1967D2;\n",
              "      --hover-bg-color: #E2EBFA;\n",
              "      --hover-fill-color: #174EA6;\n",
              "      --disabled-fill-color: #AAA;\n",
              "      --disabled-bg-color: #DDD;\n",
              "  }\n",
              "\n",
              "  [theme=dark] .colab-df-quickchart {\n",
              "      --bg-color: #3B4455;\n",
              "      --fill-color: #D2E3FC;\n",
              "      --hover-bg-color: #434B5C;\n",
              "      --hover-fill-color: #FFFFFF;\n",
              "      --disabled-bg-color: #3B4455;\n",
              "      --disabled-fill-color: #666;\n",
              "  }\n",
              "\n",
              "  .colab-df-quickchart {\n",
              "    background-color: var(--bg-color);\n",
              "    border: none;\n",
              "    border-radius: 50%;\n",
              "    cursor: pointer;\n",
              "    display: none;\n",
              "    fill: var(--fill-color);\n",
              "    height: 32px;\n",
              "    padding: 0;\n",
              "    width: 32px;\n",
              "  }\n",
              "\n",
              "  .colab-df-quickchart:hover {\n",
              "    background-color: var(--hover-bg-color);\n",
              "    box-shadow: 0 1px 2px rgba(60, 64, 67, 0.3), 0 1px 3px 1px rgba(60, 64, 67, 0.15);\n",
              "    fill: var(--button-hover-fill-color);\n",
              "  }\n",
              "\n",
              "  .colab-df-quickchart-complete:disabled,\n",
              "  .colab-df-quickchart-complete:disabled:hover {\n",
              "    background-color: var(--disabled-bg-color);\n",
              "    fill: var(--disabled-fill-color);\n",
              "    box-shadow: none;\n",
              "  }\n",
              "\n",
              "  .colab-df-spinner {\n",
              "    border: 2px solid var(--fill-color);\n",
              "    border-color: transparent;\n",
              "    border-bottom-color: var(--fill-color);\n",
              "    animation:\n",
              "      spin 1s steps(1) infinite;\n",
              "  }\n",
              "\n",
              "  @keyframes spin {\n",
              "    0% {\n",
              "      border-color: transparent;\n",
              "      border-bottom-color: var(--fill-color);\n",
              "      border-left-color: var(--fill-color);\n",
              "    }\n",
              "    20% {\n",
              "      border-color: transparent;\n",
              "      border-left-color: var(--fill-color);\n",
              "      border-top-color: var(--fill-color);\n",
              "    }\n",
              "    30% {\n",
              "      border-color: transparent;\n",
              "      border-left-color: var(--fill-color);\n",
              "      border-top-color: var(--fill-color);\n",
              "      border-right-color: var(--fill-color);\n",
              "    }\n",
              "    40% {\n",
              "      border-color: transparent;\n",
              "      border-right-color: var(--fill-color);\n",
              "      border-top-color: var(--fill-color);\n",
              "    }\n",
              "    60% {\n",
              "      border-color: transparent;\n",
              "      border-right-color: var(--fill-color);\n",
              "    }\n",
              "    80% {\n",
              "      border-color: transparent;\n",
              "      border-right-color: var(--fill-color);\n",
              "      border-bottom-color: var(--fill-color);\n",
              "    }\n",
              "    90% {\n",
              "      border-color: transparent;\n",
              "      border-bottom-color: var(--fill-color);\n",
              "    }\n",
              "  }\n",
              "</style>\n",
              "\n",
              "      <script>\n",
              "        async function quickchart(key) {\n",
              "          const quickchartButtonEl =\n",
              "            document.querySelector('#' + key + ' button');\n",
              "          quickchartButtonEl.disabled = true;  // To prevent multiple clicks.\n",
              "          quickchartButtonEl.classList.add('colab-df-spinner');\n",
              "          try {\n",
              "            const charts = await google.colab.kernel.invokeFunction(\n",
              "                'suggestCharts', [key], {});\n",
              "          } catch (error) {\n",
              "            console.error('Error during call to suggestCharts:', error);\n",
              "          }\n",
              "          quickchartButtonEl.classList.remove('colab-df-spinner');\n",
              "          quickchartButtonEl.classList.add('colab-df-quickchart-complete');\n",
              "        }\n",
              "        (() => {\n",
              "          let quickchartButtonEl =\n",
              "            document.querySelector('#df-73d16cac-80eb-49a3-b9aa-6b3ff183aa0f button');\n",
              "          quickchartButtonEl.style.display =\n",
              "            google.colab.kernel.accessAllowed ? 'block' : 'none';\n",
              "        })();\n",
              "      </script>\n",
              "    </div>\n",
              "\n",
              "    </div>\n",
              "  </div>\n"
            ],
            "application/vnd.google.colaboratory.intrinsic+json": {
              "type": "dataframe",
              "variable_name": "df"
            }
          },
          "metadata": {},
          "execution_count": 3
        }
      ],
      "source": [
        "# Load the dataset\n",
        "file_path = r\"/content/User1.csv\"\n",
        "\n",
        "df = pd.read_csv(file_path, encoding='latin1')  # Use 'latin1' to avoid encoding issues\n",
        "\n",
        "\n",
        "df.head()\n"
      ]
    },
    {
      "cell_type": "code",
      "execution_count": 4,
      "metadata": {
        "colab": {
          "base_uri": "https://localhost:8080/"
        },
        "id": "XD4-awJQOX2b",
        "outputId": "30c7be2e-ff47-44b1-f07c-9533ee736d62"
      },
      "outputs": [
        {
          "output_type": "stream",
          "name": "stdout",
          "text": [
            "Shape: (195036, 4)\n",
            "Columns: ['Timestamp', 'EventType', 'Key', 'Username']\n"
          ]
        }
      ],
      "source": [
        "# Check shape and columns\n",
        "print(f\"Shape: {df.shape}\")\n",
        "print(\"Columns:\", df.columns.tolist())\n",
        "\n",
        "# Rename if needed (depends on dataset)\n",
        "# df = df.rename(columns={'v1': 'label', 'v2': 'text'})\n",
        "\n",
        "\n"
      ]
    },
    {
      "cell_type": "code",
      "execution_count": 5,
      "metadata": {
        "colab": {
          "base_uri": "https://localhost:8080/",
          "height": 242
        },
        "id": "e9--C2OUOdtH",
        "outputId": "3aeab020-cb2c-4402-be90-292281d8933a"
      },
      "outputs": [
        {
          "output_type": "stream",
          "name": "stdout",
          "text": [
            "Columns in the dataset:\n",
            "['Timestamp', 'EventType', 'Key', 'Username']\n"
          ]
        },
        {
          "output_type": "execute_result",
          "data": {
            "text/plain": [
              "                 Timestamp EventType         Key Username\n",
              "0  2017-03-20 01:24:55,555   RESTART         NaN      NaN\n",
              "1  2017-03-20 01:25:20,894   release   Key.alt_l    User1\n",
              "2  2017-03-20 01:25:20,910   release  Key.ctrl_l    User1\n",
              "3  2017-03-20 01:25:20,910   release   Key.shift    User1\n",
              "4  2017-03-20 01:25:20,910   release     Key.cmd    User1"
            ],
            "text/html": [
              "\n",
              "  <div id=\"df-95b01aca-3310-4299-af40-ce4090bc3159\" class=\"colab-df-container\">\n",
              "    <div>\n",
              "<style scoped>\n",
              "    .dataframe tbody tr th:only-of-type {\n",
              "        vertical-align: middle;\n",
              "    }\n",
              "\n",
              "    .dataframe tbody tr th {\n",
              "        vertical-align: top;\n",
              "    }\n",
              "\n",
              "    .dataframe thead th {\n",
              "        text-align: right;\n",
              "    }\n",
              "</style>\n",
              "<table border=\"1\" class=\"dataframe\">\n",
              "  <thead>\n",
              "    <tr style=\"text-align: right;\">\n",
              "      <th></th>\n",
              "      <th>Timestamp</th>\n",
              "      <th>EventType</th>\n",
              "      <th>Key</th>\n",
              "      <th>Username</th>\n",
              "    </tr>\n",
              "  </thead>\n",
              "  <tbody>\n",
              "    <tr>\n",
              "      <th>0</th>\n",
              "      <td>2017-03-20 01:24:55,555</td>\n",
              "      <td>RESTART</td>\n",
              "      <td>NaN</td>\n",
              "      <td>NaN</td>\n",
              "    </tr>\n",
              "    <tr>\n",
              "      <th>1</th>\n",
              "      <td>2017-03-20 01:25:20,894</td>\n",
              "      <td>release</td>\n",
              "      <td>Key.alt_l</td>\n",
              "      <td>User1</td>\n",
              "    </tr>\n",
              "    <tr>\n",
              "      <th>2</th>\n",
              "      <td>2017-03-20 01:25:20,910</td>\n",
              "      <td>release</td>\n",
              "      <td>Key.ctrl_l</td>\n",
              "      <td>User1</td>\n",
              "    </tr>\n",
              "    <tr>\n",
              "      <th>3</th>\n",
              "      <td>2017-03-20 01:25:20,910</td>\n",
              "      <td>release</td>\n",
              "      <td>Key.shift</td>\n",
              "      <td>User1</td>\n",
              "    </tr>\n",
              "    <tr>\n",
              "      <th>4</th>\n",
              "      <td>2017-03-20 01:25:20,910</td>\n",
              "      <td>release</td>\n",
              "      <td>Key.cmd</td>\n",
              "      <td>User1</td>\n",
              "    </tr>\n",
              "  </tbody>\n",
              "</table>\n",
              "</div>\n",
              "    <div class=\"colab-df-buttons\">\n",
              "\n",
              "  <div class=\"colab-df-container\">\n",
              "    <button class=\"colab-df-convert\" onclick=\"convertToInteractive('df-95b01aca-3310-4299-af40-ce4090bc3159')\"\n",
              "            title=\"Convert this dataframe to an interactive table.\"\n",
              "            style=\"display:none;\">\n",
              "\n",
              "  <svg xmlns=\"http://www.w3.org/2000/svg\" height=\"24px\" viewBox=\"0 -960 960 960\">\n",
              "    <path d=\"M120-120v-720h720v720H120Zm60-500h600v-160H180v160Zm220 220h160v-160H400v160Zm0 220h160v-160H400v160ZM180-400h160v-160H180v160Zm440 0h160v-160H620v160ZM180-180h160v-160H180v160Zm440 0h160v-160H620v160Z\"/>\n",
              "  </svg>\n",
              "    </button>\n",
              "\n",
              "  <style>\n",
              "    .colab-df-container {\n",
              "      display:flex;\n",
              "      gap: 12px;\n",
              "    }\n",
              "\n",
              "    .colab-df-convert {\n",
              "      background-color: #E8F0FE;\n",
              "      border: none;\n",
              "      border-radius: 50%;\n",
              "      cursor: pointer;\n",
              "      display: none;\n",
              "      fill: #1967D2;\n",
              "      height: 32px;\n",
              "      padding: 0 0 0 0;\n",
              "      width: 32px;\n",
              "    }\n",
              "\n",
              "    .colab-df-convert:hover {\n",
              "      background-color: #E2EBFA;\n",
              "      box-shadow: 0px 1px 2px rgba(60, 64, 67, 0.3), 0px 1px 3px 1px rgba(60, 64, 67, 0.15);\n",
              "      fill: #174EA6;\n",
              "    }\n",
              "\n",
              "    .colab-df-buttons div {\n",
              "      margin-bottom: 4px;\n",
              "    }\n",
              "\n",
              "    [theme=dark] .colab-df-convert {\n",
              "      background-color: #3B4455;\n",
              "      fill: #D2E3FC;\n",
              "    }\n",
              "\n",
              "    [theme=dark] .colab-df-convert:hover {\n",
              "      background-color: #434B5C;\n",
              "      box-shadow: 0px 1px 3px 1px rgba(0, 0, 0, 0.15);\n",
              "      filter: drop-shadow(0px 1px 2px rgba(0, 0, 0, 0.3));\n",
              "      fill: #FFFFFF;\n",
              "    }\n",
              "  </style>\n",
              "\n",
              "    <script>\n",
              "      const buttonEl =\n",
              "        document.querySelector('#df-95b01aca-3310-4299-af40-ce4090bc3159 button.colab-df-convert');\n",
              "      buttonEl.style.display =\n",
              "        google.colab.kernel.accessAllowed ? 'block' : 'none';\n",
              "\n",
              "      async function convertToInteractive(key) {\n",
              "        const element = document.querySelector('#df-95b01aca-3310-4299-af40-ce4090bc3159');\n",
              "        const dataTable =\n",
              "          await google.colab.kernel.invokeFunction('convertToInteractive',\n",
              "                                                    [key], {});\n",
              "        if (!dataTable) return;\n",
              "\n",
              "        const docLinkHtml = 'Like what you see? Visit the ' +\n",
              "          '<a target=\"_blank\" href=https://colab.research.google.com/notebooks/data_table.ipynb>data table notebook</a>'\n",
              "          + ' to learn more about interactive tables.';\n",
              "        element.innerHTML = '';\n",
              "        dataTable['output_type'] = 'display_data';\n",
              "        await google.colab.output.renderOutput(dataTable, element);\n",
              "        const docLink = document.createElement('div');\n",
              "        docLink.innerHTML = docLinkHtml;\n",
              "        element.appendChild(docLink);\n",
              "      }\n",
              "    </script>\n",
              "  </div>\n",
              "\n",
              "\n",
              "    <div id=\"df-947f7b36-8c78-475a-8147-6f3a30360337\">\n",
              "      <button class=\"colab-df-quickchart\" onclick=\"quickchart('df-947f7b36-8c78-475a-8147-6f3a30360337')\"\n",
              "                title=\"Suggest charts\"\n",
              "                style=\"display:none;\">\n",
              "\n",
              "<svg xmlns=\"http://www.w3.org/2000/svg\" height=\"24px\"viewBox=\"0 0 24 24\"\n",
              "     width=\"24px\">\n",
              "    <g>\n",
              "        <path d=\"M19 3H5c-1.1 0-2 .9-2 2v14c0 1.1.9 2 2 2h14c1.1 0 2-.9 2-2V5c0-1.1-.9-2-2-2zM9 17H7v-7h2v7zm4 0h-2V7h2v10zm4 0h-2v-4h2v4z\"/>\n",
              "    </g>\n",
              "</svg>\n",
              "      </button>\n",
              "\n",
              "<style>\n",
              "  .colab-df-quickchart {\n",
              "      --bg-color: #E8F0FE;\n",
              "      --fill-color: #1967D2;\n",
              "      --hover-bg-color: #E2EBFA;\n",
              "      --hover-fill-color: #174EA6;\n",
              "      --disabled-fill-color: #AAA;\n",
              "      --disabled-bg-color: #DDD;\n",
              "  }\n",
              "\n",
              "  [theme=dark] .colab-df-quickchart {\n",
              "      --bg-color: #3B4455;\n",
              "      --fill-color: #D2E3FC;\n",
              "      --hover-bg-color: #434B5C;\n",
              "      --hover-fill-color: #FFFFFF;\n",
              "      --disabled-bg-color: #3B4455;\n",
              "      --disabled-fill-color: #666;\n",
              "  }\n",
              "\n",
              "  .colab-df-quickchart {\n",
              "    background-color: var(--bg-color);\n",
              "    border: none;\n",
              "    border-radius: 50%;\n",
              "    cursor: pointer;\n",
              "    display: none;\n",
              "    fill: var(--fill-color);\n",
              "    height: 32px;\n",
              "    padding: 0;\n",
              "    width: 32px;\n",
              "  }\n",
              "\n",
              "  .colab-df-quickchart:hover {\n",
              "    background-color: var(--hover-bg-color);\n",
              "    box-shadow: 0 1px 2px rgba(60, 64, 67, 0.3), 0 1px 3px 1px rgba(60, 64, 67, 0.15);\n",
              "    fill: var(--button-hover-fill-color);\n",
              "  }\n",
              "\n",
              "  .colab-df-quickchart-complete:disabled,\n",
              "  .colab-df-quickchart-complete:disabled:hover {\n",
              "    background-color: var(--disabled-bg-color);\n",
              "    fill: var(--disabled-fill-color);\n",
              "    box-shadow: none;\n",
              "  }\n",
              "\n",
              "  .colab-df-spinner {\n",
              "    border: 2px solid var(--fill-color);\n",
              "    border-color: transparent;\n",
              "    border-bottom-color: var(--fill-color);\n",
              "    animation:\n",
              "      spin 1s steps(1) infinite;\n",
              "  }\n",
              "\n",
              "  @keyframes spin {\n",
              "    0% {\n",
              "      border-color: transparent;\n",
              "      border-bottom-color: var(--fill-color);\n",
              "      border-left-color: var(--fill-color);\n",
              "    }\n",
              "    20% {\n",
              "      border-color: transparent;\n",
              "      border-left-color: var(--fill-color);\n",
              "      border-top-color: var(--fill-color);\n",
              "    }\n",
              "    30% {\n",
              "      border-color: transparent;\n",
              "      border-left-color: var(--fill-color);\n",
              "      border-top-color: var(--fill-color);\n",
              "      border-right-color: var(--fill-color);\n",
              "    }\n",
              "    40% {\n",
              "      border-color: transparent;\n",
              "      border-right-color: var(--fill-color);\n",
              "      border-top-color: var(--fill-color);\n",
              "    }\n",
              "    60% {\n",
              "      border-color: transparent;\n",
              "      border-right-color: var(--fill-color);\n",
              "    }\n",
              "    80% {\n",
              "      border-color: transparent;\n",
              "      border-right-color: var(--fill-color);\n",
              "      border-bottom-color: var(--fill-color);\n",
              "    }\n",
              "    90% {\n",
              "      border-color: transparent;\n",
              "      border-bottom-color: var(--fill-color);\n",
              "    }\n",
              "  }\n",
              "</style>\n",
              "\n",
              "      <script>\n",
              "        async function quickchart(key) {\n",
              "          const quickchartButtonEl =\n",
              "            document.querySelector('#' + key + ' button');\n",
              "          quickchartButtonEl.disabled = true;  // To prevent multiple clicks.\n",
              "          quickchartButtonEl.classList.add('colab-df-spinner');\n",
              "          try {\n",
              "            const charts = await google.colab.kernel.invokeFunction(\n",
              "                'suggestCharts', [key], {});\n",
              "          } catch (error) {\n",
              "            console.error('Error during call to suggestCharts:', error);\n",
              "          }\n",
              "          quickchartButtonEl.classList.remove('colab-df-spinner');\n",
              "          quickchartButtonEl.classList.add('colab-df-quickchart-complete');\n",
              "        }\n",
              "        (() => {\n",
              "          let quickchartButtonEl =\n",
              "            document.querySelector('#df-947f7b36-8c78-475a-8147-6f3a30360337 button');\n",
              "          quickchartButtonEl.style.display =\n",
              "            google.colab.kernel.accessAllowed ? 'block' : 'none';\n",
              "        })();\n",
              "      </script>\n",
              "    </div>\n",
              "\n",
              "    </div>\n",
              "  </div>\n"
            ],
            "application/vnd.google.colaboratory.intrinsic+json": {
              "type": "dataframe",
              "variable_name": "df"
            }
          },
          "metadata": {},
          "execution_count": 5
        }
      ],
      "source": [
        "print(\"Columns in the dataset:\")\n",
        "print(df.columns.tolist())\n",
        "\n",
        "\n",
        "df.head()\n"
      ]
    },
    {
      "cell_type": "code",
      "execution_count": 6,
      "metadata": {
        "colab": {
          "base_uri": "https://localhost:8080/"
        },
        "id": "293F_gdkOhLA",
        "outputId": "476f4707-359c-4352-b3ba-d8efbd600a5c"
      },
      "outputs": [
        {
          "output_type": "stream",
          "name": "stdout",
          "text": [
            "<class 'pandas.core.frame.DataFrame'>\n",
            "RangeIndex: 195036 entries, 0 to 195035\n",
            "Data columns (total 4 columns):\n",
            " #   Column     Non-Null Count   Dtype \n",
            "---  ------     --------------   ----- \n",
            " 0   Timestamp  195036 non-null  object\n",
            " 1   EventType  195036 non-null  object\n",
            " 2   Key        194326 non-null  object\n",
            " 3   Username   194326 non-null  object\n",
            "dtypes: object(4)\n",
            "memory usage: 6.0+ MB\n",
            "None\n",
            "\n",
            "Unique Event Types:\n",
            "['RESTART' 'release' 'press' 'REFRESH']\n",
            "\n",
            "Unique Keys:\n",
            "[nan 'Key.alt_l' 'Key.ctrl_l' 'Key.shift' 'Key.cmd' 'Key.alt_r'\n",
            " 'Key.ctrl_r' 'Key.shift_r' 'Key.cmd_r' \"u'LEFT'\" \"u'RIGHT'\" \"u'CENTER'\"\n",
            " \"u'None'\" 'Key.backspace' 'Key.space' 'Key.enter' \"u'DIGIT'\" 'Key.tab'\n",
            " 'Key.up' 'Key.down' 'Key.delete' 'Key.caps_lock' 'Key.right'\n",
            " 'Key.num_lock' '<175>' '<174>' '<135>' 'Key.esc' '<47>' 'Key.f11'\n",
            " 'Key.f12' 'Key.left' '<241>' '<234>' 'Key.f7']\n",
            "\n",
            "Unique Users:\n",
            "[nan 'User1']\n"
          ]
        }
      ],
      "source": [
        "\n",
        "print(df.info())\n",
        "\n",
        "# Check unique event types (e.g., press, release, REFRESH)\n",
        "print(\"\\nUnique Event Types:\")\n",
        "print(df['EventType'].unique())\n",
        "\n",
        "# Unique keys\n",
        "print(\"\\nUnique Keys:\")\n",
        "print(df['Key'].unique())\n",
        "\n",
        "# Unique usernames\n",
        "print(\"\\nUnique Users:\")\n",
        "print(df['Username'].unique())\n"
      ]
    },
    {
      "cell_type": "code",
      "execution_count": 7,
      "metadata": {
        "colab": {
          "base_uri": "https://localhost:8080/"
        },
        "id": "V7V3flzzOhib",
        "outputId": "ba862ed3-7281-4a63-8c2b-7fedc3a1967d"
      },
      "outputs": [
        {
          "output_type": "stream",
          "name": "stdout",
          "text": [
            "Total Unique Keys: 34\n",
            "Unique Key Values:\n",
            "Key.alt_l\n",
            "Key.ctrl_l\n",
            "Key.shift\n",
            "Key.cmd\n",
            "Key.alt_r\n",
            "Key.ctrl_r\n",
            "Key.shift_r\n",
            "Key.cmd_r\n",
            "u'LEFT'\n",
            "u'RIGHT'\n",
            "u'CENTER'\n",
            "u'None'\n",
            "Key.backspace\n",
            "Key.space\n",
            "Key.enter\n",
            "u'DIGIT'\n",
            "Key.tab\n",
            "Key.up\n",
            "Key.down\n",
            "Key.delete\n",
            "Key.caps_lock\n",
            "Key.right\n",
            "Key.num_lock\n",
            "<175>\n",
            "<174>\n",
            "<135>\n",
            "Key.esc\n",
            "<47>\n",
            "Key.f11\n",
            "Key.f12\n",
            "Key.left\n",
            "<241>\n",
            "<234>\n",
            "Key.f7\n"
          ]
        }
      ],
      "source": [
        "\n",
        "if 'Key' in df.columns:\n",
        "    unique_keys = df['Key'].dropna().unique()  # Drop NaNs (for rows like REFRESH)\n",
        "    print(f\"Total Unique Keys: {len(unique_keys)}\")\n",
        "    print(\"Unique Key Values:\")\n",
        "    for key in unique_keys:\n",
        "        print(key)\n",
        "else:\n",
        "    print(\"'Key' column not found in the DataFrame.\")\n"
      ]
    },
    {
      "cell_type": "code",
      "execution_count": 8,
      "metadata": {
        "colab": {
          "base_uri": "https://localhost:8080/",
          "height": 563
        },
        "id": "Wr9hdtUfOk56",
        "outputId": "a397423e-3294-41e2-f96a-b3f8bffd0484"
      },
      "outputs": [
        {
          "output_type": "stream",
          "name": "stderr",
          "text": [
            "<ipython-input-8-3336381617>:2: FutureWarning: \n",
            "\n",
            "Passing `palette` without assigning `hue` is deprecated and will be removed in v0.14.0. Assign the `y` variable to `hue` and set `legend=False` for the same effect.\n",
            "\n",
            "  sns.barplot(x=top_keys.values, y=top_keys.index, palette='magma')\n"
          ]
        },
        {
          "output_type": "display_data",
          "data": {
            "text/plain": [
              "<Figure size 640x480 with 1 Axes>"
            ],
            "image/png": "[encoded data removed]"
          },
          "metadata": {}
        }
      ],
      "source": [
        "top_keys = df['Key'].value_counts().head(10)\n",
        "sns.barplot(x=top_keys.values, y=top_keys.index, palette='magma')\n",
        "plt.title(\"Top 10 Most Used Keys\")\n",
        "plt.xlabel(\"Count\")\n",
        "plt.ylabel(\"Key\")\n",
        "plt.show()\n"
      ]
    },
    {
      "cell_type": "code",
      "execution_count": 9,
      "metadata": {
        "colab": {
          "base_uri": "https://localhost:8080/",
          "height": 607
        },
        "id": "T7u0hA2vOprq",
        "outputId": "ef1a0cfe-f31d-42e7-efef-6a79f2d1ad9b"
      },
      "outputs": [
        {
          "output_type": "display_data",
          "data": {
            "text/plain": [
              "<Figure size 1400x600 with 1 Axes>"
            ],
            "image/png": "[encoded data removed]"
          },
          "metadata": {}
        }
      ],
      "source": [
        "import pandas as pd\n",
        "import matplotlib.pyplot as plt\n",
        "import seaborn as sns\n",
        "\n",
        "# Categorization map for all unique keys\n",
        "key_categories = {\n",
        "    # Modifier keys\n",
        "    'Key.alt_l': 'Modifier', 'Key.ctrl_l': 'Modifier', 'Key.shift': 'Modifier',\n",
        "    'Key.cmd': 'Modifier', 'Key.alt_r': 'Modifier', 'Key.ctrl_r': 'Modifier',\n",
        "    'Key.shift_r': 'Modifier', 'Key.cmd_r': 'Modifier',\n",
        "\n",
        "    # Directional / positional keys\n",
        "    \"u'LEFT'\": 'Directional', \"u'RIGHT'\": 'Directional', \"u'CENTER'\": 'Directional',\n",
        "    'Key.up': 'Directional', 'Key.down': 'Directional', 'Key.right': 'Directional',\n",
        "\n",
        "    # Control / action keys\n",
        "    'Key.backspace': 'Control', 'Key.space': 'Control', 'Key.enter': 'Control',\n",
        "    'Key.tab': 'Control', 'Key.delete': 'Control', 'Key.esc': 'Control',\n",
        "    'Key.caps_lock': 'Control', 'Key.num_lock': 'Control', 'Key.f11': 'Control',\n",
        "\n",
        "    # Abstract / placeholder\n",
        "    \"u'DIGIT'\": 'Abstract', \"u'None'\": 'Abstract',\n",
        "\n",
        "    # Raw key codes\n",
        "    '<175>': 'RawCode', '<174>': 'RawCode', '<135>': 'RawCode', '<47>': 'RawCode'\n",
        "}\n",
        "\n",
        "# Count key frequencies\n",
        "key_counts = df['Key'].value_counts().dropna()\n",
        "\n",
        "# Assign categories to each key based on mapping\n",
        "category_data = []\n",
        "for key, count in key_counts.items():\n",
        "    category = key_categories.get(key, 'Other')\n",
        "    category_data.append({'Key': key, 'Count': count, 'Category': category})\n",
        "\n",
        "# Create DataFrame from categorized keys\n",
        "key_df = pd.DataFrame(category_data)\n",
        "\n",
        "# Plot using seaborn\n",
        "plt.figure(figsize=(14, 6))\n",
        "sns.barplot(data=key_df, x='Key', y='Count', hue='Category', dodge=False, palette='Set2')\n",
        "plt.title(\"Key Usage Distribution by Category\")\n",
        "plt.xlabel(\"Key\")\n",
        "plt.ylabel(\"Count\")\n",
        "plt.xticks(rotation=90)\n",
        "plt.legend(title=\"Key Category\")\n",
        "plt.tight_layout()\n",
        "plt.show()\n"
      ]
    },
    {
      "cell_type": "code",
      "execution_count": 10,
      "metadata": {
        "colab": {
          "base_uri": "https://localhost:8080/"
        },
        "id": "H3t-zopSOyCU",
        "outputId": "413b6f9c-6dd8-43ef-f95a-647a27114cd4"
      },
      "outputs": [
        {
          "output_type": "stream",
          "name": "stdout",
          "text": [
            "Requirement already satisfied: torch in /usr/local/lib/python3.11/dist-packages (2.6.0+cu124)\n",
            "Requirement already satisfied: numpy in /usr/local/lib/python3.11/dist-packages (2.0.2)\n",
            "Requirement already satisfied: pandas in /usr/local/lib/python3.11/dist-packages (2.2.2)\n",
            "Requirement already satisfied: scikit-learn in /usr/local/lib/python3.11/dist-packages (1.6.1)\n",
            "Requirement already satisfied: filelock in /usr/local/lib/python3.11/dist-packages (from torch) (3.18.0)\n",
            "Requirement already satisfied: typing-extensions>=4.10.0 in /usr/local/lib/python3.11/dist-packages (from torch) (4.14.0)\n",
            "Requirement already satisfied: networkx in /usr/local/lib/python3.11/dist-packages (from torch) (3.5)\n",
            "Requirement already satisfied: jinja2 in /usr/local/lib/python3.11/dist-packages (from torch) (3.1.6)\n",
            "Requirement already satisfied: fsspec in /usr/local/lib/python3.11/dist-packages (from torch) (2025.3.2)\n",
            "Requirement already satisfied: nvidia-cuda-nvrtc-cu12==12.4.127 in /usr/local/lib/python3.11/dist-packages (from torch) (12.4.127)\n",
            "Requirement already satisfied: nvidia-cuda-runtime-cu12==12.4.127 in /usr/local/lib/python3.11/dist-packages (from torch) (12.4.127)\n",
            "Requirement already satisfied: nvidia-cuda-cupti-cu12==12.4.127 in /usr/local/lib/python3.11/dist-packages (from torch) (12.4.127)\n",
            "Requirement already satisfied: nvidia-cudnn-cu12==9.1.0.70 in /usr/local/lib/python3.11/dist-packages (from torch) (9.1.0.70)\n",
            "Requirement already satisfied: nvidia-cublas-cu12==12.4.5.8 in /usr/local/lib/python3.11/dist-packages (from torch) (12.4.5.8)\n",
            "Requirement already satisfied: nvidia-cufft-cu12==11.2.1.3 in /usr/local/lib/python3.11/dist-packages (from torch) (11.2.1.3)\n",
            "Requirement already satisfied: nvidia-curand-cu12==10.3.5.147 in /usr/local/lib/python3.11/dist-packages (from torch) (10.3.5.147)\n",
            "Requirement already satisfied: nvidia-cusolver-cu12==11.6.1.9 in /usr/local/lib/python3.11/dist-packages (from torch) (11.6.1.9)\n",
            "Requirement already satisfied: nvidia-cusparse-cu12==12.3.1.170 in /usr/local/lib/python3.11/dist-packages (from torch) (12.3.1.170)\n",
            "Requirement already satisfied: nvidia-cusparselt-cu12==0.6.2 in /usr/local/lib/python3.11/dist-packages (from torch) (0.6.2)\n",
            "Requirement already satisfied: nvidia-nccl-cu12==2.21.5 in /usr/local/lib/python3.11/dist-packages (from torch) (2.21.5)\n",
            "Requirement already satisfied: nvidia-nvtx-cu12==12.4.127 in /usr/local/lib/python3.11/dist-packages (from torch) (12.4.127)\n",
            "Requirement already satisfied: nvidia-nvjitlink-cu12==12.4.127 in /usr/local/lib/python3.11/dist-packages (from torch) (12.4.127)\n",
            "Requirement already satisfied: triton==3.2.0 in /usr/local/lib/python3.11/dist-packages (from torch) (3.2.0)\n",
            "Requirement already satisfied: sympy==1.13.1 in /usr/local/lib/python3.11/dist-packages (from torch) (1.13.1)\n",
            "Requirement already satisfied: mpmath<1.4,>=1.1.0 in /usr/local/lib/python3.11/dist-packages (from sympy==1.13.1->torch) (1.3.0)\n",
            "Requirement already satisfied: python-dateutil>=2.8.2 in /usr/local/lib/python3.11/dist-packages (from pandas) (2.9.0.post0)\n",
            "Requirement already satisfied: pytz>=2020.1 in /usr/local/lib/python3.11/dist-packages (from pandas) (2025.2)\n",
            "Requirement already satisfied: tzdata>=2022.7 in /usr/local/lib/python3.11/dist-packages (from pandas) (2025.2)\n",
            "Requirement already satisfied: scipy>=1.6.0 in /usr/local/lib/python3.11/dist-packages (from scikit-learn) (1.15.3)\n",
            "Requirement already satisfied: joblib>=1.2.0 in /usr/local/lib/python3.11/dist-packages (from scikit-learn) (1.5.1)\n",
            "Requirement already satisfied: threadpoolctl>=3.1.0 in /usr/local/lib/python3.11/dist-packages (from scikit-learn) (3.6.0)\n",
            "Requirement already satisfied: six>=1.5 in /usr/local/lib/python3.11/dist-packages (from python-dateutil>=2.8.2->pandas) (1.17.0)\n",
            "Requirement already satisfied: MarkupSafe>=2.0 in /usr/local/lib/python3.11/dist-packages (from jinja2->torch) (3.0.2)\n"
          ]
        }
      ],
      "source": [
        "!pip install torch numpy pandas scikit-learn"
      ]
    },
    {
      "cell_type": "code",
      "source": [
        "import pandas as pd\n",
        "from sklearn.preprocessing import LabelEncoder\n",
        "import torch\n",
        "\n",
        "# Load both user files\n",
        "df1 = pd.read_csv(\"User1.csv\")\n",
        "df2 = pd.read_csv(\"User2.csv\")\n",
        "\n",
        "df = pd.concat([df1, df2], ignore_index=True)\n",
        "\n",
        "# Clean\n",
        "df = df[df['EventType'].isin(['press', 'release'])].dropna(subset=['Key', 'Username'])\n",
        "df = df.sort_values('Timestamp').reset_index(drop=True)\n",
        "\n",
        "# Encode key values and usernames\n",
        "key_encoder = LabelEncoder()\n",
        "user_encoder = LabelEncoder()\n",
        "\n",
        "df['KeyEncoded'] = key_encoder.fit_transform(df['Key'])\n",
        "df['UserEncoded'] = user_encoder.fit_transform(df['Username'])\n",
        "\n",
        "print(user_encoder.classes_)  # should print ['User1' 'User2']\n"
      ],
      "metadata": {
        "colab": {
          "base_uri": "https://localhost:8080/"
        },
        "id": "fVAZ38DOHoAo",
        "outputId": "796e71e6-0e19-4280-9ca9-8ef747ea41ef"
      },
      "execution_count": 14,
      "outputs": [
        {
          "output_type": "stream",
          "name": "stdout",
          "text": [
            "['User1' 'User2']\n"
          ]
        }
      ]
    },
    {
      "cell_type": "code",
      "source": [
        "SEQ_LEN = 20\n",
        "X, y = [], []\n",
        "\n",
        "for i in range(len(df) - SEQ_LEN):\n",
        "    keys = df['KeyEncoded'].iloc[i:i+SEQ_LEN].tolist()\n",
        "    users = df['UserEncoded'].iloc[i:i+SEQ_LEN]\n",
        "    if len(set(users)) == 1:  # one user per sequence\n",
        "        X.append(keys)\n",
        "        y.append(users.iloc[0])\n",
        "\n",
        "X = torch.tensor(X, dtype=torch.long)\n",
        "y = torch.tensor(y, dtype=torch.long)\n",
        "\n",
        "print(f\"Dataset shape: {X.shape}, Labels: {y.unique()}\")\n"
      ],
      "metadata": {
        "id": "5M6r80t4SEzh",
        "outputId": "ad559e68-ed2e-4b9a-ee2a-e6cae742fc9f",
        "colab": {
          "base_uri": "https://localhost:8080/"
        }
      },
      "execution_count": 15,
      "outputs": [
        {
          "output_type": "stream",
          "name": "stdout",
          "text": [
            "Dataset shape: torch.Size([240736, 20]), Labels: tensor([0, 1])\n"
          ]
        }
      ]
    },
    {
      "cell_type": "code",
      "source": [
        "import torch.nn as nn\n",
        "import math\n",
        "\n",
        "class PositionalEncoding(nn.Module):\n",
        "    def __init__(self, d_model, max_len=512):\n",
        "        super().__init__()\n",
        "        pe = torch.zeros(max_len, d_model)\n",
        "        pos = torch.arange(0, max_len).unsqueeze(1)\n",
        "        div = torch.exp(torch.arange(0, d_model, 2) * -math.log(10000.0) / d_model)\n",
        "        pe[:, 0::2] = torch.sin(pos * div)\n",
        "        pe[:, 1::2] = torch.cos(pos * div)\n",
        "        self.register_buffer('pe', pe.unsqueeze(0))\n",
        "\n",
        "    def forward(self, x):\n",
        "        return x + self.pe[:, :x.size(1)]\n"
      ],
      "metadata": {
        "id": "ERCpBcxTSItd"
      },
      "execution_count": 16,
      "outputs": []
    },
    {
      "cell_type": "code",
      "source": [
        "class MultiHeadAttention(nn.Module):\n",
        "    def __init__(self, d_model, num_heads):\n",
        "        super().__init__()\n",
        "        assert d_model % num_heads == 0\n",
        "        self.d_model = d_model\n",
        "        self.num_heads = num_heads\n",
        "        self.d_k = d_model // num_heads\n",
        "\n",
        "        self.q_linear = nn.Linear(d_model, d_model)\n",
        "        self.k_linear = nn.Linear(d_model, d_model)\n",
        "        self.v_linear = nn.Linear(d_model, d_model)\n",
        "        self.out_proj = nn.Linear(d_model, d_model)\n",
        "\n",
        "    def forward(self, x):\n",
        "        B, T, D = x.shape\n",
        "        H = self.num_heads\n",
        "\n",
        "        Q = self.q_linear(x).view(B, T, H, self.d_k).transpose(1, 2)  # (B, H, T, d_k)\n",
        "        K = self.k_linear(x).view(B, T, H, self.d_k).transpose(1, 2)\n",
        "        V = self.v_linear(x).view(B, T, H, self.d_k).transpose(1, 2)\n",
        "\n",
        "        scores = Q @ K.transpose(-2, -1) / math.sqrt(self.d_k)  # (B, H, T, T)\n",
        "        weights = torch.softmax(scores, dim=-1)\n",
        "        out = weights @ V  # (B, H, T, d_k)\n",
        "\n",
        "        out = out.transpose(1, 2).contiguous().view(B, T, D)\n",
        "        return self.out_proj(out)\n"
      ],
      "metadata": {
        "id": "Ci9Rw-XwUzeY"
      },
      "execution_count": 17,
      "outputs": []
    },
    {
      "cell_type": "code",
      "source": [
        "class TransformerEncoderBlock(nn.Module):\n",
        "    def __init__(self, d_model, num_heads, ff_dim=128, dropout=0.1):\n",
        "        super().__init__()\n",
        "        self.attn = MultiHeadAttention(d_model, num_heads)\n",
        "        self.norm1 = nn.LayerNorm(d_model)\n",
        "        self.ff = nn.Sequential(\n",
        "            nn.Linear(d_model, ff_dim),\n",
        "            nn.ReLU(),\n",
        "            nn.Linear(ff_dim, d_model)\n",
        "        )\n",
        "        self.norm2 = nn.LayerNorm(d_model)\n",
        "        self.dropout = nn.Dropout(dropout)\n",
        "\n",
        "    def forward(self, x):\n",
        "        attn_out = self.attn(x)\n",
        "        x = self.norm1(x + self.dropout(attn_out))\n",
        "        ff_out = self.ff(x)\n",
        "        x = self.norm2(x + self.dropout(ff_out))\n",
        "        return x\n"
      ],
      "metadata": {
        "id": "GAj3dlhxU123"
      },
      "execution_count": 18,
      "outputs": []
    },
    {
      "cell_type": "code",
      "source": [
        "class KeystrokeClassifier(nn.Module):\n",
        "    def __init__(self, vocab_size, num_classes, d_model=64, num_heads=4, num_layers=2):\n",
        "        super().__init__()\n",
        "        self.embed = nn.Embedding(vocab_size, d_model)\n",
        "        self.pos_enc = PositionalEncoding(d_model)\n",
        "        self.encoder_layers = nn.ModuleList([\n",
        "            TransformerEncoderBlock(d_model, num_heads) for _ in range(num_layers)\n",
        "        ])\n",
        "        self.classifier = nn.Linear(d_model, num_classes)\n",
        "\n",
        "    def forward(self, x):\n",
        "        x = self.embed(x)\n",
        "        x = self.pos_enc(x)\n",
        "        for layer in self.encoder_layers:\n",
        "            x = layer(x)\n",
        "        x = x.mean(dim=1)  # Global mean pooling\n",
        "        return self.classifier(x)\n"
      ],
      "metadata": {
        "id": "m20qj16DU8yF"
      },
      "execution_count": 19,
      "outputs": []
    },
    {
      "cell_type": "code",
      "source": [
        "from torch.utils.data import TensorDataset, DataLoader, random_split\n",
        "\n",
        "dataset = TensorDataset(X, y)\n",
        "train_size = int(0.8 * len(dataset))\n",
        "train_ds, val_ds = random_split(dataset, [train_size, len(dataset) - train_size])\n",
        "train_dl = DataLoader(train_ds, batch_size=32, shuffle=True)\n",
        "val_dl = DataLoader(val_ds, batch_size=32)\n",
        "\n",
        "model = KeystrokeClassifier(vocab_size=len(key_encoder.classes_), num_classes=2)\n",
        "loss_fn = nn.CrossEntropyLoss()\n",
        "optimizer = torch.optim.Adam(model.parameters(), lr=1e-3)\n"
      ],
      "metadata": {
        "id": "rfMBRv_jU_EH"
      },
      "execution_count": 20,
      "outputs": []
    },
    {
      "cell_type": "code",
      "source": [
        "def train(model, train_dl, val_dl, epochs=5):\n",
        "    for epoch in range(epochs):\n",
        "        model.train()\n",
        "        total_loss = 0\n",
        "        for xb, yb in train_dl:\n",
        "            preds = model(xb)\n",
        "            loss = loss_fn(preds, yb)\n",
        "            optimizer.zero_grad()\n",
        "            loss.backward()\n",
        "            optimizer.step()\n",
        "            total_loss += loss.item()\n",
        "\n",
        "        # Validation\n",
        "        model.eval()\n",
        "        correct = 0\n",
        "        total = 0\n",
        "        with torch.no_grad():\n",
        "            for xb, yb in val_dl:\n",
        "                preds = model(xb)\n",
        "                correct += (preds.argmax(dim=1) == yb).sum().item()\n",
        "                total += yb.size(0)\n",
        "\n",
        "        acc = correct / total\n",
        "        print(f\"Epoch {epoch+1} | Loss: {total_loss:.4f} | Val Acc: {acc:.2%}\")\n",
        "\n",
        "train(model, train_dl, val_dl, epochs=10)\n"
      ],
      "metadata": {
        "colab": {
          "base_uri": "https://localhost:8080/"
        },
        "id": "6dJwXrNwVGso",
        "outputId": "ed142f29-ce9c-4b40-93e6-535d84401daf"
      },
      "execution_count": 21,
      "outputs": [
        {
          "output_type": "stream",
          "name": "stdout",
          "text": [
            "Epoch 1 | Loss: 2203.0565 | Val Acc: 84.95%\n",
            "Epoch 2 | Loss: 2114.8520 | Val Acc: 84.87%\n",
            "Epoch 3 | Loss: 2087.3668 | Val Acc: 85.04%\n",
            "Epoch 4 | Loss: 2069.5474 | Val Acc: 85.34%\n",
            "Epoch 5 | Loss: 2055.9640 | Val Acc: 85.30%\n",
            "Epoch 6 | Loss: 2046.6289 | Val Acc: 85.30%\n",
            "Epoch 7 | Loss: 2056.6343 | Val Acc: 85.22%\n",
            "Epoch 8 | Loss: 2057.4137 | Val Acc: 85.30%\n",
            "Epoch 9 | Loss: 2052.1441 | Val Acc: 85.30%\n",
            "Epoch 10 | Loss: 2042.4523 | Val Acc: 85.42%\n"
          ]
        }
      ]
    },
    {
      "cell_type": "code",
      "source": [
        "from sklearn.metrics import classification_report\n",
        "\n",
        "model.eval()\n",
        "y_true, y_pred = [], []\n",
        "with torch.no_grad():\n",
        "    for xb, yb in val_dl:\n",
        "        out = model(xb)\n",
        "        preds = torch.argmax(out, dim=1)\n",
        "        y_true.extend(yb.tolist())\n",
        "        y_pred.extend(preds.tolist())\n",
        "\n",
        "print(classification_report(y_true, y_pred, target_names=user_encoder.classes_))\n"
      ],
      "metadata": {
        "colab": {
          "base_uri": "https://localhost:8080/"
        },
        "id": "llcsFNUHYOiv",
        "outputId": "57548724-0dad-42f0-a6fe-e3301e15bc9e"
      },
      "execution_count": 22,
      "outputs": [
        {
          "output_type": "stream",
          "name": "stdout",
          "text": [
            "              precision    recall  f1-score   support\n",
            "\n",
            "       User1       0.84      0.99      0.91     36373\n",
            "       User2       0.96      0.42      0.59     11775\n",
            "\n",
            "    accuracy                           0.85     48148\n",
            "   macro avg       0.90      0.71      0.75     48148\n",
            "weighted avg       0.87      0.85      0.83     48148\n",
            "\n"
          ]
        }
      ]
    },
    {
      "cell_type": "code",
      "source": [
        "import numpy as np\n",
        "unique, counts = np.unique(y.numpy(), return_counts=True)\n",
        "for label, count in zip(user_encoder.inverse_transform(unique), counts):\n",
        "    print(f\"{label}: {count} samples\")\n"
      ],
      "metadata": {
        "colab": {
          "base_uri": "https://localhost:8080/"
        },
        "id": "FiQ0zx_IZOo9",
        "outputId": "c64edd6a-552c-4b0f-8450-32951d16c417"
      },
      "execution_count": 23,
      "outputs": [
        {
          "output_type": "stream",
          "name": "stdout",
          "text": [
            "User1: 181347 samples\n",
            "User2: 59389 samples\n"
          ]
        }
      ]
    },
    {
      "cell_type": "code",
      "source": [
        "181347+59389"
      ],
      "metadata": {
        "colab": {
          "base_uri": "https://localhost:8080/"
        },
        "id": "1w4T7QwZZ0p7",
        "outputId": "f1769a70-1b75-40f3-f873-cbae0b979101"
      },
      "execution_count": 24,
      "outputs": [
        {
          "output_type": "execute_result",
          "data": {
            "text/plain": [
              "240736"
            ]
          },
          "metadata": {},
          "execution_count": 24
        }
      ]
    },
    {
      "cell_type": "code",
      "source": [
        "from sklearn.metrics import confusion_matrix, ConfusionMatrixDisplay\n",
        "\n",
        "# Switch model to evaluation mode\n",
        "model.eval()\n",
        "\n",
        "# Collect true and predicted labels\n",
        "y_true, y_pred = [], []\n",
        "\n",
        "with torch.no_grad():\n",
        "    for xb, yb in val_dl:\n",
        "        logits = model(xb)\n",
        "        preds = torch.argmax(logits, dim=1)\n",
        "        y_true.extend(yb.tolist())\n",
        "        y_pred.extend(preds.tolist())\n",
        "\n",
        "print(len(y_true))\n"
      ],
      "metadata": {
        "colab": {
          "base_uri": "https://localhost:8080/"
        },
        "id": "cQOWUuYmeX-S",
        "outputId": "213eb157-2d9c-479f-98f7-0881c8d5e5c9"
      },
      "execution_count": 25,
      "outputs": [
        {
          "output_type": "stream",
          "name": "stdout",
          "text": [
            "48148\n"
          ]
        }
      ]
    },
    {
      "cell_type": "code",
      "source": [
        "import matplotlib.pyplot as plt\n",
        "\n",
        "cm = confusion_matrix(y_true, y_pred)\n",
        "disp = ConfusionMatrixDisplay(confusion_matrix=cm, display_labels=user_encoder.classes_)\n",
        "disp.plot(cmap=plt.cm.Blues)\n",
        "plt.title(\"Confusion Matrix - User Classification\")\n",
        "plt.show()\n"
      ],
      "metadata": {
        "colab": {
          "base_uri": "https://localhost:8080/",
          "height": 472
        },
        "id": "A1jI6sEReaUP",
        "outputId": "e347158a-cb1d-4a6c-e1ed-cbcadd9ba32b"
      },
      "execution_count": 26,
      "outputs": [
        {
          "output_type": "display_data",
          "data": {
            "text/plain": [
              "<Figure size 640x480 with 2 Axes>"
            ],
            "image/png": "[encoded data removed]"
          },
          "metadata": {}
        }
      ]
    },
    {
      "cell_type": "code",
      "source": [
        "print(model)"
      ],
      "metadata": {
        "colab": {
          "base_uri": "https://localhost:8080/"
        },
        "id": "H0LylyRfebyW",
        "outputId": "ba160808-fbf2-4263-9808-c859128bf298"
      },
      "execution_count": 27,
      "outputs": [
        {
          "output_type": "stream",
          "name": "stdout",
          "text": [
            "KeystrokeClassifier(\n",
            "  (embed): Embedding(36, 64)\n",
            "  (pos_enc): PositionalEncoding()\n",
            "  (encoder_layers): ModuleList(\n",
            "    (0-1): 2 x TransformerEncoderBlock(\n",
            "      (attn): MultiHeadAttention(\n",
            "        (q_linear): Linear(in_features=64, out_features=64, bias=True)\n",
            "        (k_linear): Linear(in_features=64, out_features=64, bias=True)\n",
            "        (v_linear): Linear(in_features=64, out_features=64, bias=True)\n",
            "        (out_proj): Linear(in_features=64, out_features=64, bias=True)\n",
            "      )\n",
            "      (norm1): LayerNorm((64,), eps=1e-05, elementwise_affine=True)\n",
            "      (ff): Sequential(\n",
            "        (0): Linear(in_features=64, out_features=128, bias=True)\n",
            "        (1): ReLU()\n",
            "        (2): Linear(in_features=128, out_features=64, bias=True)\n",
            "      )\n",
            "      (norm2): LayerNorm((64,), eps=1e-05, elementwise_affine=True)\n",
            "      (dropout): Dropout(p=0.1, inplace=False)\n",
            "    )\n",
            "  )\n",
            "  (classifier): Linear(in_features=64, out_features=2, bias=True)\n",
            ")\n"
          ]
        }
      ]
    },
    {
      "cell_type": "code",
      "source": [
        "!pip install torchinfo\n"
      ],
      "metadata": {
        "colab": {
          "base_uri": "https://localhost:8080/"
        },
        "id": "jut3BfK1rKSN",
        "outputId": "5888aae5-5423-418d-e4d0-2fb65bf2174d"
      },
      "execution_count": 40,
      "outputs": [
        {
          "output_type": "stream",
          "name": "stdout",
          "text": [
            "Collecting torchinfo\n",
            "  Downloading torchinfo-1.8.0-py3-none-any.whl.metadata (21 kB)\n",
            "Downloading torchinfo-1.8.0-py3-none-any.whl (23 kB)\n",
            "Installing collected packages: torchinfo\n",
            "Successfully installed torchinfo-1.8.0\n"
          ]
        }
      ]
    },
    {
      "cell_type": "code",
      "source": [
        "print(\"First 5 sequences and labels in full dataset:\")\n",
        "for i in range(5):\n",
        "    print(\"X:\", X[i].tolist(), \"→ y:\", y[i].item())\n"
      ],
      "metadata": {
        "colab": {
          "base_uri": "https://localhost:8080/"
        },
        "id": "fRdFSzhMOQTF",
        "outputId": "6cb2f4db-ab49-46ff-fc7f-750bd04c2345"
      },
      "execution_count": 32,
      "outputs": [
        {
          "output_type": "stream",
          "name": "stdout",
          "text": [
            "First 5 sequences and labels in full dataset:\n",
            "X: [6, 12, 26, 10, 7, 13, 27, 11, 6, 12, 26, 10, 11, 7, 13, 27, 33, 33, 35, 35] → y: 0\n",
            "X: [12, 26, 10, 7, 13, 27, 11, 6, 12, 26, 10, 11, 7, 13, 27, 33, 33, 35, 35, 33] → y: 0\n",
            "X: [26, 10, 7, 13, 27, 11, 6, 12, 26, 10, 11, 7, 13, 27, 33, 33, 35, 35, 33, 33] → y: 0\n",
            "X: [10, 7, 13, 27, 11, 6, 12, 26, 10, 11, 7, 13, 27, 33, 33, 35, 35, 33, 33, 6] → y: 0\n",
            "X: [7, 13, 27, 11, 6, 12, 26, 10, 11, 7, 13, 27, 33, 33, 35, 35, 33, 33, 6, 12] → y: 0\n"
          ]
        }
      ]
    },
    {
      "cell_type": "code",
      "source": [
        "print(\"First 5 samples in train_ds:\")\n",
        "for i in range(5):\n",
        "    print(train_ds[i])\n"
      ],
      "metadata": {
        "colab": {
          "base_uri": "https://localhost:8080/"
        },
        "id": "gZGoWf2cOSpC",
        "outputId": "9b67f245-aebe-4ddd-aaa9-233a204407d5"
      },
      "execution_count": 33,
      "outputs": [
        {
          "output_type": "stream",
          "name": "stdout",
          "text": [
            "First 5 samples in train_ds:\n",
            "(tensor([26, 26, 26, 26, 26, 26, 26, 26, 26, 26, 26, 26, 26, 26, 26, 26, 35, 35,\n",
            "        26, 35]), tensor(0))\n",
            "(tensor([28, 31, 31, 31, 31, 33, 33, 28, 28, 33, 35, 33, 35, 31, 31, 35, 35, 33,\n",
            "        33, 31]), tensor(0))\n",
            "(tensor([34,  8,  8, 19, 19, 26, 31, 31, 26, 35, 35,  8,  8,  8,  8, 12, 34, 34,\n",
            "        12, 26]), tensor(0))\n",
            "(tensor([31, 31, 31, 31, 33, 33, 28, 28, 35, 35, 31, 31, 33, 33, 28, 28, 35, 35,\n",
            "        33, 33]), tensor(0))\n",
            "(tensor([33, 31, 31, 33, 33, 35, 35,  8,  8,  8,  8, 35, 31, 35, 31, 33, 33, 33,\n",
            "        33, 34]), tensor(0))\n"
          ]
        }
      ]
    },
    {
      "cell_type": "code",
      "source": [
        "from torchinfo import summary\n",
        "\n",
        "model = KeystrokeClassifier(vocab_size, num_classes)\n",
        "summary(model, input_size=(1, sequence_length), dtypes=[torch.long])\n"
      ],
      "metadata": {
        "colab": {
          "base_uri": "https://localhost:8080/"
        },
        "id": "HiLrAOARraY9",
        "outputId": "a31f8e1b-b8b7-4325-edc1-8e24510d3ff6"
      },
      "execution_count": 41,
      "outputs": [
        {
          "output_type": "execute_result",
          "data": {
            "text/plain": [
              "==========================================================================================\n",
              "Layer (type:depth-idx)                   Output Shape              Param #\n",
              "==========================================================================================\n",
              "KeystrokeClassifier                      [1, 2]                    --\n",
              "├─Embedding: 1-1                         [1, 20, 64]               2,304\n",
              "├─PositionalEncoding: 1-2                [1, 20, 64]               --\n",
              "├─ModuleList: 1-3                        --                        --\n",
              "│    └─TransformerEncoderBlock: 2-1      [1, 20, 64]               --\n",
              "│    │    └─MultiHeadAttention: 3-1      [1, 20, 64]               16,640\n",
              "│    │    └─Dropout: 3-2                 [1, 20, 64]               --\n",
              "│    │    └─LayerNorm: 3-3               [1, 20, 64]               128\n",
              "│    │    └─Sequential: 3-4              [1, 20, 64]               16,576\n",
              "│    │    └─Dropout: 3-5                 [1, 20, 64]               --\n",
              "│    │    └─LayerNorm: 3-6               [1, 20, 64]               128\n",
              "│    └─TransformerEncoderBlock: 2-2      [1, 20, 64]               --\n",
              "│    │    └─MultiHeadAttention: 3-7      [1, 20, 64]               16,640\n",
              "│    │    └─Dropout: 3-8                 [1, 20, 64]               --\n",
              "│    │    └─LayerNorm: 3-9               [1, 20, 64]               128\n",
              "│    │    └─Sequential: 3-10             [1, 20, 64]               16,576\n",
              "│    │    └─Dropout: 3-11                [1, 20, 64]               --\n",
              "│    │    └─LayerNorm: 3-12              [1, 20, 64]               128\n",
              "├─Linear: 1-4                            [1, 2]                    130\n",
              "==========================================================================================\n",
              "Total params: 69,378\n",
              "Trainable params: 69,378\n",
              "Non-trainable params: 0\n",
              "Total mult-adds (Units.MEGABYTES): 0.07\n",
              "==========================================================================================\n",
              "Input size (MB): 0.00\n",
              "Forward/backward pass size (MB): 0.19\n",
              "Params size (MB): 0.28\n",
              "Estimated Total Size (MB): 0.47\n",
              "=========================================================================================="
            ]
          },
          "metadata": {},
          "execution_count": 41
        }
      ]
    },
    {
      "cell_type": "code",
      "source": [
        "from torch.utils.data import TensorDataset, DataLoader, random_split\n",
        "\n",
        "dataset = TensorDataset(X, y)\n",
        "train_size = int(0.8 * len(dataset))\n",
        "\n",
        "train_dl = DataLoader(train_ds, batch_size=32, shuffle=True)\n",
        "val_dl = DataLoader(val_ds, batch_size=32)\n",
        "# Sequential split — no shuffling\n",
        "train_ds = torch.utils.data.Subset(dataset, list(range(train_size)))\n",
        "val_ds = torch.utils.data.Subset(dataset, list(range(train_size, len(dataset))))\n",
        "\n",
        "\n",
        "model = KeystrokeClassifier(vocab_size=len(key_encoder.classes_), num_classes=2)\n",
        "loss_fn = nn.CrossEntropyLoss()\n",
        "optimizer = torch.optim.Adam(model.parameters(), lr=1e-3)\n"
      ],
      "metadata": {
        "id": "tPILCNQ8Ozkj"
      },
      "execution_count": 43,
      "outputs": []
    },
    {
      "cell_type": "code",
      "source": [
        "def train(model, train_dl, val_dl, epochs=5):\n",
        "    for epoch in range(epochs):\n",
        "        model.train()\n",
        "        total_loss = 0\n",
        "        for xb, yb in train_dl:\n",
        "            preds = model(xb)\n",
        "            loss = loss_fn(preds, yb)\n",
        "            optimizer.zero_grad()\n",
        "            loss.backward()\n",
        "            optimizer.step()\n",
        "            total_loss += loss.item()\n",
        "\n",
        "        # Validation\n",
        "        model.eval()\n",
        "        correct = 0\n",
        "        total = 0\n",
        "        with torch.no_grad():\n",
        "            for xb, yb in val_dl:\n",
        "                preds = model(xb)\n",
        "                correct += (preds.argmax(dim=1) == yb).sum().item()\n",
        "                total += yb.size(0)\n",
        "\n",
        "        acc = correct / total\n",
        "        print(f\"Epoch {epoch+1} | Loss: {total_loss:.4f} | Val Acc: {acc:.2%}\")\n",
        "\n",
        "train(model, train_dl, val_dl, epochs=10)\n"
      ],
      "metadata": {
        "colab": {
          "base_uri": "https://localhost:8080/"
        },
        "id": "4unC3IaPQlKj",
        "outputId": "c02965cd-3812-4786-dc56-348d13051ee9"
      },
      "execution_count": 44,
      "outputs": [
        {
          "output_type": "stream",
          "name": "stdout",
          "text": [
            "Epoch 1 | Loss: 2145.5614 | Val Acc: 82.67%\n",
            "Epoch 2 | Loss: 2048.2398 | Val Acc: 82.78%\n",
            "Epoch 3 | Loss: 2019.4885 | Val Acc: 82.44%\n",
            "Epoch 4 | Loss: 1990.1675 | Val Acc: 83.02%\n",
            "Epoch 5 | Loss: 1973.5229 | Val Acc: 82.66%\n",
            "Epoch 6 | Loss: 1960.6325 | Val Acc: 82.71%\n",
            "Epoch 7 | Loss: 1947.7289 | Val Acc: 82.95%\n",
            "Epoch 8 | Loss: 1935.1063 | Val Acc: 82.47%\n",
            "Epoch 9 | Loss: 1917.3621 | Val Acc: 82.61%\n",
            "Epoch 10 | Loss: 1900.6581 | Val Acc: 83.30%\n"
          ]
        }
      ]
    },
    {
      "cell_type": "code",
      "source": [
        "from sklearn.metrics import classification_report\n",
        "\n",
        "model.eval()\n",
        "y_true, y_pred = [], []\n",
        "with torch.no_grad():\n",
        "    for xb, yb in val_dl:\n",
        "        out = model(xb)\n",
        "        preds = torch.argmax(out, dim=1)\n",
        "        y_true.extend(yb.tolist())\n",
        "        y_pred.extend(preds.tolist())\n",
        "\n",
        "print(classification_report(y_true, y_pred, target_names=user_encoder.classes_))\n"
      ],
      "metadata": {
        "colab": {
          "base_uri": "https://localhost:8080/"
        },
        "id": "MeTFSbVsQpZh",
        "outputId": "7095152d-4b9b-48b0-b135-2e9b02313ee3"
      },
      "execution_count": 45,
      "outputs": [
        {
          "output_type": "stream",
          "name": "stdout",
          "text": [
            "              precision    recall  f1-score   support\n",
            "\n",
            "       User1       0.82      0.98      0.90     35161\n",
            "       User2       0.90      0.43      0.58     12987\n",
            "\n",
            "    accuracy                           0.83     48148\n",
            "   macro avg       0.86      0.71      0.74     48148\n",
            "weighted avg       0.84      0.83      0.81     48148\n",
            "\n"
          ]
        }
      ]
    },
    {
      "cell_type": "code",
      "source": [
        "from sklearn.metrics import confusion_matrix, ConfusionMatrixDisplay\n",
        "\n",
        "# Switch model to evaluation mode\n",
        "model.eval()\n",
        "\n",
        "# Collect true and predicted labels\n",
        "y_true, y_pred = [], []\n",
        "\n",
        "with torch.no_grad():\n",
        "    for xb, yb in val_dl:\n",
        "        logits = model(xb)\n",
        "        preds = torch.argmax(logits, dim=1)\n",
        "        y_true.extend(yb.tolist())\n",
        "        y_pred.extend(preds.tolist())\n",
        "\n",
        "print(len(y_true))\n",
        "\n",
        "\n",
        "\n"
      ],
      "metadata": {
        "colab": {
          "base_uri": "https://localhost:8080/"
        },
        "id": "rydzmr5BTEki",
        "outputId": "548ea688-9bbd-4850-a36b-ec627da6e369"
      },
      "execution_count": 46,
      "outputs": [
        {
          "output_type": "stream",
          "name": "stdout",
          "text": [
            "48148\n"
          ]
        }
      ]
    },
    {
      "cell_type": "code",
      "source": [
        "import matplotlib.pyplot as plt\n",
        "\n",
        "cm = confusion_matrix(y_true, y_pred)\n",
        "disp = ConfusionMatrixDisplay(confusion_matrix=cm, display_labels=user_encoder.classes_)\n",
        "disp.plot(cmap=plt.cm.Blues)\n",
        "plt.title(\"Confusion Matrix - User Classification\")\n",
        "plt.show()\n"
      ],
      "metadata": {
        "colab": {
          "base_uri": "https://localhost:8080/",
          "height": 472
        },
        "id": "VCOCl4ARTH1Z",
        "outputId": "b4131d22-8e04-47dc-ea2b-0bf2bb0bf668"
      },
      "execution_count": 47,
      "outputs": [
        {
          "output_type": "display_data",
          "data": {
            "text/plain": [
              "<Figure size 640x480 with 2 Axes>"
            ],
            "image/png": "[encoded data removed]"
          },
          "metadata": {}
        }
      ]
    },
    {
      "cell_type": "code",
      "source": [
        "import random\n",
        "\n",
        "# Find class indices\n",
        "user1_indices = [i for i in range(len(y)) if y[i] == 0]  # Majority\n",
        "user2_indices = [i for i in range(len(y)) if y[i] == 1]  # Minority\n",
        "\n",
        "# Downsample User1 to match User2\n",
        "random.shuffle(user1_indices)\n",
        "user1_selected = user1_indices[:len(user2_indices)]\n",
        "\n",
        "# Combine and shuffle final balanced indices\n",
        "balanced_indices = user1_selected + user2_indices\n",
        "balanced_indices.sort()  # Keep order for sequential splitting\n",
        "\n",
        "# Balanced data\n",
        "X_bal = X[balanced_indices]\n",
        "y_bal = y[balanced_indices]\n"
      ],
      "metadata": {
        "id": "42r0W04vTK8n"
      },
      "execution_count": 48,
      "outputs": []
    },
    {
      "cell_type": "code",
      "source": [
        "from torch.utils.data import TensorDataset, Subset, DataLoader\n",
        "\n",
        "dataset = TensorDataset(X_bal, y_bal)\n",
        "\n",
        "train_size = int(0.8 * len(dataset))\n",
        "val_size = len(dataset) - train_size\n",
        "\n",
        "# Sequential indices (no shuffling)\n",
        "train_indices = list(range(train_size))\n",
        "val_indices = list(range(train_size, len(dataset)))\n",
        "\n",
        "# Use Subset to preserve sequence order\n",
        "train_ds = Subset(dataset, train_indices)\n",
        "val_ds = Subset(dataset, val_indices)\n"
      ],
      "metadata": {
        "id": "a2S0atEYUW6b"
      },
      "execution_count": 49,
      "outputs": []
    },
    {
      "cell_type": "code",
      "source": [
        "train_dl = DataLoader(train_ds, batch_size=32, shuffle=True)   # Shuffle batches\n",
        "val_dl = DataLoader(val_ds, batch_size=32, shuffle=False)      # No shuffle for eval\n"
      ],
      "metadata": {
        "id": "FmrvWMrCUaan"
      },
      "execution_count": 50,
      "outputs": []
    },
    {
      "cell_type": "code",
      "source": [
        "from collections import Counter\n",
        "\n",
        "def check_distribution(dl, name):\n",
        "    all_labels = []\n",
        "    for _, yb in dl:\n",
        "        all_labels.extend(yb.tolist())\n",
        "    dist = Counter(all_labels)\n",
        "    print(f\"{name} class distribution:\", {user_encoder.inverse_transform([k])[0]: v for k, v in dist.items()})\n",
        "\n",
        "print(f\"Training Set Size: {len(train_ds)} | Validation Set Size: {len(val_ds)}\")\n",
        "check_distribution(train_dl, \"Train\")\n",
        "check_distribution(val_dl, \"Validation\")\n"
      ],
      "metadata": {
        "colab": {
          "base_uri": "https://localhost:8080/"
        },
        "id": "4eK28byOUdGn",
        "outputId": "2f350c74-513e-4a72-e915-c83742999601"
      },
      "execution_count": 51,
      "outputs": [
        {
          "output_type": "stream",
          "name": "stdout",
          "text": [
            "Training Set Size: 95022 | Validation Set Size: 23756\n",
            "Train class distribution: {'User2': 46402, 'User1': 48620}\n",
            "Validation class distribution: {'User1': 10769, 'User2': 12987}\n"
          ]
        }
      ]
    },
    {
      "cell_type": "code",
      "source": [
        "def train(model, train_dl, val_dl, epochs=5):\n",
        "    for epoch in range(epochs):\n",
        "        model.train()\n",
        "        total_loss = 0\n",
        "        for xb, yb in train_dl:\n",
        "            preds = model(xb)\n",
        "            loss = loss_fn(preds, yb)\n",
        "            optimizer.zero_grad()\n",
        "            loss.backward()\n",
        "            optimizer.step()\n",
        "            total_loss += loss.item()\n",
        "\n",
        "        # Validation\n",
        "        model.eval()\n",
        "        correct = 0\n",
        "        total = 0\n",
        "        with torch.no_grad():\n",
        "            for xb, yb in val_dl:\n",
        "                preds = model(xb)\n",
        "                correct += (preds.argmax(dim=1) == yb).sum().item()\n",
        "                total += yb.size(0)\n",
        "\n",
        "        acc = correct / total\n",
        "        print(f\"Epoch {epoch+1} | Loss: {total_loss:.4f} | Val Acc: {acc:.2%}\")\n",
        "\n",
        "train(model, train_dl, val_dl, epochs=10)\n"
      ],
      "metadata": {
        "colab": {
          "base_uri": "https://localhost:8080/"
        },
        "id": "5-qVMnciUfrq",
        "outputId": "7da9610e-5e2b-4fa1-fcc4-36f6c362262a"
      },
      "execution_count": 80,
      "outputs": [
        {
          "output_type": "stream",
          "name": "stdout",
          "text": [
            "Epoch 1 | Loss: 1363.5824 | Val Acc: 72.35%\n",
            "Epoch 2 | Loss: 1298.1177 | Val Acc: 75.06%\n",
            "Epoch 3 | Loss: 1276.6623 | Val Acc: 75.19%\n",
            "Epoch 4 | Loss: 1261.6572 | Val Acc: 75.08%\n",
            "Epoch 5 | Loss: 1252.2082 | Val Acc: 75.20%\n",
            "Epoch 6 | Loss: 1243.8018 | Val Acc: 76.17%\n",
            "Epoch 7 | Loss: 1239.4307 | Val Acc: 75.72%\n",
            "Epoch 8 | Loss: 1233.1011 | Val Acc: 73.74%\n",
            "Epoch 9 | Loss: 1232.6441 | Val Acc: 76.61%\n",
            "Epoch 10 | Loss: 1227.6600 | Val Acc: 73.47%\n"
          ]
        }
      ]
    },
    {
      "cell_type": "code",
      "source": [
        "print(f\"Total balanced samples: {len(X_bal)}\")\n"
      ],
      "metadata": {
        "colab": {
          "base_uri": "https://localhost:8080/"
        },
        "id": "JSJIaZbdb-HX",
        "outputId": "900a21e0-e5e1-4b18-a0e9-291c43c23632"
      },
      "execution_count": 81,
      "outputs": [
        {
          "output_type": "stream",
          "name": "stdout",
          "text": [
            "Total balanced samples: 118778\n"
          ]
        }
      ]
    },
    {
      "cell_type": "code",
      "source": [
        "from collections import Counter\n",
        "\n",
        "# Count how many samples for each class\n",
        "class_counts = Counter(y_bal.tolist())\n",
        "\n",
        "# Print in readable format\n",
        "for label, count in class_counts.items():\n",
        "    user = user_encoder.inverse_transform([label])[0]\n",
        "    print(f\"{user}: {count} samples\")\n"
      ],
      "metadata": {
        "colab": {
          "base_uri": "https://localhost:8080/"
        },
        "id": "3P5bNeRqdYnz",
        "outputId": "e04efa5e-3171-4243-9dbf-040fb7ccec98"
      },
      "execution_count": 82,
      "outputs": [
        {
          "output_type": "stream",
          "name": "stdout",
          "text": [
            "User1: 59389 samples\n",
            "User2: 59389 samples\n"
          ]
        }
      ]
    },
    {
      "cell_type": "code",
      "source": [
        "print(f\"Train set size: {len(train_ds)}\")\n",
        "print(f\"Validation set size: {len(val_ds)}\")\n"
      ],
      "metadata": {
        "colab": {
          "base_uri": "https://localhost:8080/"
        },
        "id": "561_7WibdbQZ",
        "outputId": "5dd0fdba-81e0-40df-e337-4554b59d9b77"
      },
      "execution_count": 83,
      "outputs": [
        {
          "output_type": "stream",
          "name": "stdout",
          "text": [
            "Train set size: 95022\n",
            "Validation set size: 23756\n"
          ]
        }
      ]
    },
    {
      "cell_type": "code",
      "source": [
        "from collections import Counter\n",
        "\n",
        "def print_class_distribution(dataset, name=\"\"):\n",
        "    labels = [label.item() for _, label in dataset]\n",
        "    counts = Counter(labels)\n",
        "\n",
        "    print(f\"{name} class distribution:\")\n",
        "    for label, count in counts.items():\n",
        "        user = user_encoder.inverse_transform([label])[0]\n",
        "        print(f\"  {user}: {count} samples\")\n",
        "\n",
        "# Run for both splits\n",
        "print_class_distribution(train_ds, \"Train\")\n",
        "print_class_distribution(val_ds, \"Validation\")\n"
      ],
      "metadata": {
        "colab": {
          "base_uri": "https://localhost:8080/"
        },
        "id": "Fr5lvvfseu4n",
        "outputId": "a6bfbaee-8fa2-420b-9e28-167304559483"
      },
      "execution_count": 84,
      "outputs": [
        {
          "output_type": "stream",
          "name": "stdout",
          "text": [
            "Train class distribution:\n",
            "  User1: 48620 samples\n",
            "  User2: 46402 samples\n",
            "Validation class distribution:\n",
            "  User1: 10769 samples\n",
            "  User2: 12987 samples\n"
          ]
        }
      ]
    },
    {
      "cell_type": "code",
      "source": [
        "from sklearn.metrics import classification_report\n",
        "\n",
        "model.eval()\n",
        "y_true, y_pred = [], []\n",
        "with torch.no_grad():\n",
        "    for xb, yb in val_dl:\n",
        "        out = model(xb)\n",
        "        preds = torch.argmax(out, dim=1)\n",
        "        y_true.extend(yb.tolist())\n",
        "        y_pred.extend(preds.tolist())\n",
        "\n",
        "print(classification_report(y_true, y_pred, target_names=user_encoder.classes_))\n"
      ],
      "metadata": {
        "colab": {
          "base_uri": "https://localhost:8080/"
        },
        "id": "NfXsUIByeyIf",
        "outputId": "3322f404-3798-482f-d64f-da645b629a34"
      },
      "execution_count": 85,
      "outputs": [
        {
          "output_type": "stream",
          "name": "stdout",
          "text": [
            "              precision    recall  f1-score   support\n",
            "\n",
            "       User1       0.67      0.81      0.73     10769\n",
            "       User2       0.81      0.67      0.73     12987\n",
            "\n",
            "    accuracy                           0.73     23756\n",
            "   macro avg       0.74      0.74      0.73     23756\n",
            "weighted avg       0.75      0.73      0.73     23756\n",
            "\n"
          ]
        }
      ]
    },
    {
      "cell_type": "code",
      "source": [
        "from sklearn.metrics import confusion_matrix, ConfusionMatrixDisplay\n",
        "\n",
        "# Switch model to evaluation mode\n",
        "model.eval()\n",
        "\n",
        "# Collect true and predicted labels\n",
        "y_true, y_pred = [], []\n",
        "\n",
        "with torch.no_grad():\n",
        "    for xb, yb in val_dl:\n",
        "        logits = model(xb)\n",
        "        preds = torch.argmax(logits, dim=1)\n",
        "        y_true.extend(yb.tolist())\n",
        "        y_pred.extend(preds.tolist())\n",
        "\n",
        "print(len(y_true))\n",
        "\n",
        "\n",
        "\n"
      ],
      "metadata": {
        "colab": {
          "base_uri": "https://localhost:8080/"
        },
        "id": "IX4ugOI1e3aw",
        "outputId": "2652dccf-04d6-4a6a-c079-055f67ff3efd"
      },
      "execution_count": 86,
      "outputs": [
        {
          "output_type": "stream",
          "name": "stdout",
          "text": [
            "23756\n"
          ]
        }
      ]
    },
    {
      "cell_type": "code",
      "source": [
        "import matplotlib.pyplot as plt\n",
        "\n",
        "cm = confusion_matrix(y_true, y_pred)\n",
        "disp = ConfusionMatrixDisplay(confusion_matrix=cm, display_labels=user_encoder.classes_)\n",
        "disp.plot(cmap=plt.cm.Blues)\n",
        "plt.title(\"Confusion Matrix - User Classification\")\n",
        "plt.show()\n"
      ],
      "metadata": {
        "colab": {
          "base_uri": "https://localhost:8080/",
          "height": 472
        },
        "id": "tWb9V1-Xe9S4",
        "outputId": "c7dd3380-9a8f-4a91-f36b-2336504fe5d5"
      },
      "execution_count": 87,
      "outputs": [
        {
          "output_type": "display_data",
          "data": {
            "text/plain": [
              "<Figure size 640x480 with 2 Axes>"
            ],
            "image/png": "[encoded data removed]"
          },
          "metadata": {}
        }
      ]
    },
    {
      "cell_type": "code",
      "source": [
        "import random\n",
        "\n",
        "# Pick 5 samples from each class\n",
        "print(\"Testing on random User1 sequences:\")\n",
        "for i in random.sample([i for i in range(len(y_bal)) if y_bal[i] == 0], 5):\n",
        "    predicted = predict_user(model, X_bal[i].tolist(), user_encoder)\n",
        "    print(f\"True: User1 → Predicted: {predicted}\")\n",
        "\n",
        "print(\"\\nTesting on random User2 sequences:\")\n",
        "for i in random.sample([i for i in range(len(y_bal)) if y_bal[i] == 1], 5):\n",
        "    predicted = predict_user(model, X_bal[i].tolist(), user_encoder)\n",
        "    print(f\"True: User2 → Predicted: {predicted}\")\n"
      ],
      "metadata": {
        "colab": {
          "base_uri": "https://localhost:8080/"
        },
        "id": "xa2_SbmifCgi",
        "outputId": "47312c00-c3ec-416f-ef98-f8c75a3c0fc7"
      },
      "execution_count": 88,
      "outputs": [
        {
          "output_type": "stream",
          "name": "stdout",
          "text": [
            "Testing on random User1 sequences:\n",
            "True: User1 → Predicted: User1\n",
            "True: User1 → Predicted: User1\n",
            "True: User1 → Predicted: User2\n",
            "True: User1 → Predicted: User1\n",
            "True: User1 → Predicted: User1\n",
            "\n",
            "Testing on random User2 sequences:\n",
            "True: User2 → Predicted: User2\n",
            "True: User2 → Predicted: User2\n",
            "True: User2 → Predicted: User2\n",
            "True: User2 → Predicted: User2\n",
            "True: User2 → Predicted: User2\n"
          ]
        }
      ]
    },
    {
      "cell_type": "code",
      "source": [
        "from sklearn.metrics import classification_report\n",
        "import pandas as pd\n",
        "\n",
        "model.eval()\n",
        "y_true, y_pred = [], []\n",
        "\n",
        "with torch.no_grad():\n",
        "    for xb, yb in val_dl:\n",
        "        logits = model(xb)\n",
        "        preds = torch.argmax(logits, dim=1)\n",
        "        y_true.extend(yb.tolist())\n",
        "        y_pred.extend(preds.tolist())\n",
        "\n",
        "# Get classification report as dict\n",
        "report = classification_report(\n",
        "    y_true, y_pred, target_names=user_encoder.classes_, output_dict=True\n",
        ")\n",
        "\n",
        "# Convert to DataFrame for easy plotting\n",
        "report_df = pd.DataFrame(report).transpose()\n"
      ],
      "metadata": {
        "id": "zZ0eUOvMfJ7w"
      },
      "execution_count": 89,
      "outputs": []
    },
    {
      "cell_type": "code",
      "source": [
        "import matplotlib.pyplot as plt\n",
        "\n",
        "# Select only User1 and User2 rows\n",
        "user_metrics = report_df.loc[[\"User1\", \"User2\"], [\"precision\", \"recall\", \"f1-score\"]]\n",
        "\n",
        "# Plot\n",
        "user_metrics.plot(kind='bar', figsize=(8, 5), colormap='viridis')\n",
        "plt.title(\"Per-Class Metrics (User1 vs User2)\")\n",
        "plt.ylabel(\"Score\")\n",
        "plt.ylim(0, 1.05)\n",
        "plt.xticks(rotation=0)\n",
        "plt.grid(axis='y', linestyle='--', alpha=0.6)\n",
        "plt.legend(loc='lower right')\n",
        "plt.tight_layout()\n",
        "plt.show()\n"
      ],
      "metadata": {
        "colab": {
          "base_uri": "https://localhost:8080/",
          "height": 507
        },
        "id": "edXX7V8MfZSE",
        "outputId": "dd893d8d-de1d-42d0-fc35-911c9e8b7166"
      },
      "execution_count": 90,
      "outputs": [
        {
          "output_type": "display_data",
          "data": {
            "text/plain": [
              "<Figure size 800x500 with 1 Axes>"
            ],
            "image/png": "[encoded data removed]"
          },
          "metadata": {}
        }
      ]
    },
    {
      "cell_type": "code",
      "source": [],
      "metadata": {
        "id": "GVe5UnpRfg1A"
      },
      "execution_count": null,
      "outputs": []
    }
  ],
  "metadata": {
    "accelerator": "GPU",
    "colab": {
      "gpuType": "T4",
      "provenance": [],
      "include_colab_link": true
    },
    "kernelspec": {
      "display_name": "Python 3",
      "name": "python3"
    },
    "language_info": {
      "name": "python"
    }
  },
  "nbformat": 4,
  "nbformat_minor": 0
}